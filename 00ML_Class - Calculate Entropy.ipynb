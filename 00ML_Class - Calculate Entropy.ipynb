{
 "cells": [
  {
   "cell_type": "markdown",
   "metadata": {},
   "source": [
    "## calculating the entropy"
   ]
  },
  {
   "cell_type": "code",
   "execution_count": 5,
   "metadata": {
    "collapsed": true
   },
   "outputs": [],
   "source": [
    "from math import log2"
   ]
  },
  {
   "cell_type": "code",
   "execution_count": 8,
   "metadata": {
    "collapsed": false
   },
   "outputs": [
    {
     "name": "stdout",
     "output_type": "stream",
     "text": [
      "entropy: 0.811 bits\n"
     ]
    }
   ],
   "source": [
    "# calculate the entropy for a dataset\n",
    "from math import log2\n",
    "# proportion of examples in each class\n",
    "class0 = 1/4\n",
    "class1 = 3/4\n",
    "# calculate entropy\n",
    "entropy = -((class0 * log2(class0)) + (class1 * log2(class1)))\n",
    "# print the result\n",
    "print('entropy: %.3f bits' % entropy)"
   ]
  },
  {
   "cell_type": "code",
   "execution_count": 9,
   "metadata": {
    "collapsed": true
   },
   "outputs": [],
   "source": [
    "# calculate the entropy for the split in the dataset\n",
    "def entropy(class0, class1):\n",
    "    return -(class0 * log2(class0) + class1 * log2(class1))"
   ]
  },
  {
   "cell_type": "code",
   "execution_count": 10,
   "metadata": {
    "collapsed": false
   },
   "outputs": [
    {
     "name": "stdout",
     "output_type": "stream",
     "text": [
      "Dataset Entropy: 0.985 bits\n"
     ]
    }
   ],
   "source": [
    "...\n",
    "# split of the main dataset\n",
    "class0 = 3 / 7\n",
    "class1 = 4 / 7\n",
    "# calculate entropy before the change\n",
    "s_entropy = entropy(class0, class1)\n",
    "print('Dataset Entropy: %.3f bits' % s_entropy)"
   ]
  },
  {
   "cell_type": "code",
   "execution_count": 16,
   "metadata": {
    "collapsed": false
   },
   "outputs": [
    {
     "name": "stdout",
     "output_type": "stream",
     "text": [
      "Group1 Entropy: 0.000 bits\n"
     ]
    }
   ],
   "source": [
    "# split 1 (split via value1)\n",
    "s1_class0 = 1\n",
    "s1_class1 = 0\n",
    "# calculate the entropy of the first group\n",
    "s1_entropy = 0\n",
    "print('Group1 Entropy: %.3f bits' % s1_entropy)"
   ]
  },
  {
   "cell_type": "code",
   "execution_count": 17,
   "metadata": {
    "collapsed": false
   },
   "outputs": [
    {
     "name": "stdout",
     "output_type": "stream",
     "text": [
      "Group2 Entropy: 0.811 bits\n"
     ]
    }
   ],
   "source": [
    "...\n",
    "# split 2  (split via value2)\n",
    "s2_class0 = 1 / 4\n",
    "s2_class1 = 3 / 4\n",
    "# calculate the entropy of the second group\n",
    "s2_entropy = entropy(s2_class0, s2_class1)\n",
    "print('Group2 Entropy: %.3f bits' % s2_entropy)"
   ]
  },
  {
   "cell_type": "code",
   "execution_count": 18,
   "metadata": {
    "collapsed": false
   },
   "outputs": [
    {
     "name": "stdout",
     "output_type": "stream",
     "text": [
      "Information Gain: 0.498 bits\n"
     ]
    }
   ],
   "source": [
    "...\n",
    "# calculate the information gain\n",
    "gain = s_entropy - (8/20 * s1_entropy + 12/20 * s2_entropy)\n",
    "print('Information Gain: %.3f bits' % gain)"
   ]
  },
  {
   "cell_type": "markdown",
   "metadata": {},
   "source": [
    "# All Together"
   ]
  },
  {
   "cell_type": "code",
   "execution_count": 19,
   "metadata": {
    "collapsed": false
   },
   "outputs": [
    {
     "name": "stdout",
     "output_type": "stream",
     "text": [
      "Dataset Entropy: 0.985 bits\n",
      "Group1 Entropy: 0.000 bits\n",
      "Group2 Entropy: 0.811 bits\n",
      "Information Gain: 0.498 bits\n"
     ]
    }
   ],
   "source": [
    "# calculate the information gain\n",
    "from math import log2\n",
    " \n",
    "# calculate the entropy for the split in the dataset\n",
    "def entropy(class0, class1):\n",
    "    return -(class0 * log2(class0) + class1 * log2(class1))\n",
    " \n",
    "# split of the main dataset\n",
    "class0 = 3 / 7\n",
    "class1 = 4 / 7\n",
    "# calculate entropy before the change\n",
    "s_entropy = entropy(class0, class1)\n",
    "print('Dataset Entropy: %.3f bits' % s_entropy)\n",
    " \n",
    "# split 1 (split via value1)\n",
    "s1_class0 = 3 / 3\n",
    "s1_class1 = 0 / 3\n",
    "# calculate the entropy of the first group\n",
    "#s1_entropy = entropy(s1_class0, s1_class1)\n",
    "s1_entropy = 0\n",
    "print('Group1 Entropy: %.3f bits' % s1_entropy)\n",
    " \n",
    "# split 2  (split via value2)\n",
    "s2_class0 = 1 / 4\n",
    "s2_class1 = 3 / 4\n",
    "# calculate the entropy of the second group\n",
    "s2_entropy = entropy(s2_class0, s2_class1)\n",
    "print('Group2 Entropy: %.3f bits' % s2_entropy)\n",
    " \n",
    "# calculate the information gain\n",
    "gain = s_entropy - (8/20 * s1_entropy + 12/20 * s2_entropy)\n",
    "print('Information Gain: %.3f bits' % gain)"
   ]
  },
  {
   "cell_type": "code",
   "execution_count": null,
   "metadata": {
    "collapsed": true
   },
   "outputs": [],
   "source": []
  }
 ],
 "metadata": {
  "anaconda-cloud": {},
  "kernelspec": {
   "display_name": "Python [default]",
   "language": "python",
   "name": "python3"
  },
  "language_info": {
   "codemirror_mode": {
    "name": "ipython",
    "version": 3
   },
   "file_extension": ".py",
   "mimetype": "text/x-python",
   "name": "python",
   "nbconvert_exporter": "python",
   "pygments_lexer": "ipython3",
   "version": "3.5.2"
  }
 },
 "nbformat": 4,
 "nbformat_minor": 1
}
