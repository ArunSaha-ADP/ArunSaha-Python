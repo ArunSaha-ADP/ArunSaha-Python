{
 "cells": [
  {
   "cell_type": "markdown",
   "metadata": {
    "id": "R4WDgVjUKTuW"
   },
   "source": [
    "**[Slide no.52]**\n",
    "\n",
    "1. write a program to Check wheather the age entered by user is above 18 or not?"
   ]
  },
  {
   "cell_type": "code",
   "execution_count": null,
   "metadata": {
    "colab": {
     "base_uri": "https://localhost:8080/",
     "height": 132
    },
    "id": "QUYDTLIKKVM3",
    "outputId": "8e02f351-b7e0-4d92-b6fa-cd180d1fcf40"
   },
   "outputs": [
    {
     "ename": "IndentationError",
     "evalue": "ignored",
     "output_type": "error",
     "traceback": [
      "\u001b[0;36m  File \u001b[0;32m\"<ipython-input-5-9f060c207213>\"\u001b[0;36m, line \u001b[0;32m7\u001b[0m\n\u001b[0;31m    else:\u001b[0m\n\u001b[0m         ^\u001b[0m\n\u001b[0;31mIndentationError\u001b[0m\u001b[0;31m:\u001b[0m unindent does not match any outer indentation level\n"
     ]
    }
   ],
   "source": [
    "\n",
    "\n",
    "Age=int(input(\"enter age:\"))\n",
    "if (Age>18):\n",
    "\n",
    "  print(\"eligiable\")\n",
    "else:\n",
    "  print(\"not eligiable\")\n",
    "\n",
    "\n"
   ]
  },
  {
   "cell_type": "code",
   "execution_count": null,
   "metadata": {
    "colab": {
     "base_uri": "https://localhost:8080/"
    },
    "id": "LMJs87PuzsEQ",
    "outputId": "44741370-fc14-429e-f40c-71e567ce76e7"
   },
   "outputs": [
    {
     "name": "stdout",
     "output_type": "stream",
     "text": [
      "Enter today climate : Cold\n",
      "Go for Shopping\n"
     ]
    }
   ],
   "source": [
    "Climate = input(\"Enter today climate : \")     #taking input from user \n",
    "if Climate == \"Warm\":     #cond 1\n",
    "    print('Dont go for Shopping')   #Statement 1\n",
    "    \n",
    "elif Climate == \"Rainy\":   #Cond 2\n",
    "    print('Dont Go for Shopping')    #Saetement 2\n",
    "elif Climate == \"Cold\":     #Cond 3\n",
    "    print(\"Go for Shopping\")\n",
    "else:\n",
    "  print(\"You enter wrong entry \") \n"
   ]
  },
  {
   "cell_type": "code",
   "execution_count": null,
   "metadata": {
    "id": "wb2RPbKpxniz"
   },
   "outputs": [],
   "source": [
    ""
   ]
  },
  {
   "cell_type": "markdown",
   "metadata": {
    "id": "UtMMk_C_KVaA"
   },
   "source": [
    "**[Slide No. 52]**\n",
    "\n",
    "2. Write a program to check number entered is even or not ?"
   ]
  },
  {
   "cell_type": "code",
   "execution_count": null,
   "metadata": {
    "colab": {
     "base_uri": "https://localhost:8080/"
    },
    "id": "tdX72iluKVu5",
    "outputId": "56a11c3e-4521-4b4f-a071-bbfb8e0d2ae5"
   },
   "outputs": [
    {
     "name": "stdout",
     "output_type": "stream",
     "text": [
      "Enter a number: 5\n",
      "5 is Odd number\n"
     ]
    }
   ],
   "source": [
    "num = int(input(\"Enter a number: \"))\n",
    "if (num % 2) == 0:   # 7%2 =1\n",
    "    print(\"{0} is Even number\". format(num))\n",
    "else:\n",
    "    print(\"{0} is Odd number\". format(num))\n",
    "\n"
   ]
  },
  {
   "cell_type": "markdown",
   "metadata": {
    "id": "Pf8qWzurKWDn"
   },
   "source": [
    "**[Slide No. 53]**\n",
    "\n",
    "3. Write a program to print largest number from three given numbers."
   ]
  },
  {
   "cell_type": "code",
   "execution_count": null,
   "metadata": {
    "colab": {
     "base_uri": "https://localhost:8080/"
    },
    "id": "RlgJ1ag0MjCy",
    "outputId": "20de92db-6c8a-4817-c7c5-452b908a760b"
   },
   "outputs": [
    {
     "name": "stdout",
     "output_type": "stream",
     "text": [
      "Enter first number :6\n",
      "Enter second number :6\n",
      "Enter third number :6\n",
      "6\n"
     ]
    }
   ],
   "source": [
    "67 , 78 , 45\n"
   ]
  },
  {
   "cell_type": "markdown",
   "metadata": {
    "id": "8ZlIRe2bXiS2"
   },
   "source": [
    "**Print the 2nd largest value**"
   ]
  },
  {
   "cell_type": "code",
   "execution_count": null,
   "metadata": {
    "colab": {
     "base_uri": "https://localhost:8080/"
    },
    "id": "dAIai3oSV63R",
    "outputId": "f8446cb0-bd99-406f-9832-d9c690b6013f"
   },
   "outputs": [
    {
     "name": "stdout",
     "output_type": "stream",
     "text": [
      "200 is greater\n"
     ]
    }
   ],
   "source": [
    "a=56\n",
    "b=100\n",
    "c=200\n",
    "if (a>b) and (b>c):\n",
    "  print(a,\"is greater\")\n",
    "else:\n",
    "   if (b>c):\n",
    "     print(b,\"is greater\")\n",
    "   else:\n",
    "    print(c,\"is greater\")\n"
   ]
  },
  {
   "cell_type": "code",
   "execution_count": null,
   "metadata": {
    "colab": {
     "base_uri": "https://localhost:8080/",
     "height": 132
    },
    "id": "XJAKNA_sWZec",
    "outputId": "7fbd5e24-c29b-429f-843c-28bb6258116f"
   },
   "outputs": [
    {
     "ename": "SyntaxError",
     "evalue": "ignored",
     "output_type": "error",
     "traceback": [
      "\u001b[0;36m  File \u001b[0;32m\"<ipython-input-19-b451ba61deb1>\"\u001b[0;36m, line \u001b[0;32m4\u001b[0m\n\u001b[0;31m    if (c<b) and (c>a):\u001b[0m\n\u001b[0m      ^\u001b[0m\n\u001b[0;31mSyntaxError\u001b[0m\u001b[0;31m:\u001b[0m invalid character in identifier\n"
     ]
    }
   ],
   "source": [
    "a=50\n",
    "b=70\n",
    "c=60\n",
    "if (c<b) and (c>a):\n",
    "  print(c,\"is second greater\")\n",
    "else:\n",
    "  if (c<a):\n",
    "    print(a,\"is  second greater\")\n",
    "  else:\n",
    "    print(a,\"is second greater\")"
   ]
  },
  {
   "cell_type": "code",
   "execution_count": null,
   "metadata": {
    "colab": {
     "base_uri": "https://localhost:8080/"
    },
    "id": "-j-zMH798Tbe",
    "outputId": "08956c18-88c8-43e5-a76d-ec40975ab7c9"
   },
   "outputs": [
    {
     "name": "stdout",
     "output_type": "stream",
     "text": [
      "enter first number78\n",
      "enter second number99\n",
      "enter third number66\n",
      "the second largest number is c\n"
     ]
    }
   ],
   "source": [
    "a=int(input(\"enter first number\"))\n",
    "b=int(input(\"enter second number\"))\n",
    "c=int(input(\"enter third number\"))\n",
    "\n",
    "if (a>b) and (a<c):\n",
    "  print(\"the second largest number a\")\n",
    "elif b<c:\n",
    "  print(\"the second largest number is b\")z\n",
    "else:\n",
    "  print(\"the second largest number is c\")\n"
   ]
  },
  {
   "cell_type": "code",
   "execution_count": null,
   "metadata": {
    "colab": {
     "base_uri": "https://localhost:8080/"
    },
    "id": "9mHQpPEQYLO9",
    "outputId": "d7b20e54-1a5f-4059-cfea-f282d1a66250"
   },
   "outputs": [
    {
     "name": "stdout",
     "output_type": "stream",
     "text": [
      "num2 is 2nd lar\n"
     ]
    }
   ],
   "source": [
    "num1=100\n",
    "num2=50\n",
    "num3=70\n",
    "\n",
    "if(num1>num2>num3):\n",
    "    print('num2 is  second largest ')\n",
    "    \n",
    "elif(num2>num3):\n",
    "    print(\"num2 is 2nd lar\")\n",
    "    \n",
    "else:\n",
    "    print(\"num2 is 2nd lar\")"
   ]
  },
  {
   "cell_type": "code",
   "execution_count": null,
   "metadata": {
    "colab": {
     "base_uri": "https://localhost:8080/",
     "height": 270
    },
    "id": "gusdV2CQZjvY",
    "outputId": "84d3a025-5ceb-44c4-f906-2e0798a2d3ca"
   },
   "outputs": [
    {
     "name": "stdout",
     "output_type": "stream",
     "text": [
      "enter 1st value6\n",
      "enter 2nd value7\n",
      "enter 3rd value8\n",
      "largest no. is (6, 7, 8)\n"
     ]
    },
    {
     "ename": "IndexError",
     "evalue": "ignored",
     "output_type": "error",
     "traceback": [
      "\u001b[0;31m---------------------------------------------------------------------------\u001b[0m",
      "\u001b[0;31mIndexError\u001b[0m                                Traceback (most recent call last)",
      "\u001b[0;32m<ipython-input-28-ab3bdf1abc4d>\u001b[0m in \u001b[0;36m<module>\u001b[0;34m()\u001b[0m\n\u001b[1;32m      3\u001b[0m \u001b[0md\u001b[0m\u001b[0;34m.\u001b[0m\u001b[0msort\u001b[0m\u001b[0;34m(\u001b[0m\u001b[0mreverse\u001b[0m\u001b[0;34m=\u001b[0m\u001b[0;32mTrue\u001b[0m\u001b[0;34m)\u001b[0m\u001b[0;34m\u001b[0m\u001b[0;34m\u001b[0m\u001b[0m\n\u001b[1;32m      4\u001b[0m \u001b[0mprint\u001b[0m\u001b[0;34m(\u001b[0m\u001b[0;34m\"largest no. is\"\u001b[0m\u001b[0;34m,\u001b[0m\u001b[0mstr\u001b[0m\u001b[0;34m(\u001b[0m\u001b[0md\u001b[0m\u001b[0;34m[\u001b[0m\u001b[0;36m0\u001b[0m\u001b[0;34m]\u001b[0m\u001b[0;34m)\u001b[0m\u001b[0;34m)\u001b[0m\u001b[0;34m\u001b[0m\u001b[0;34m\u001b[0m\u001b[0m\n\u001b[0;32m----> 5\u001b[0;31m \u001b[0mprint\u001b[0m \u001b[0;34m(\u001b[0m\u001b[0;34m\"2nd largest no is\"\u001b[0m\u001b[0;34m,\u001b[0m\u001b[0mstr\u001b[0m\u001b[0;34m(\u001b[0m\u001b[0md\u001b[0m\u001b[0;34m[\u001b[0m\u001b[0;36m1\u001b[0m\u001b[0;34m]\u001b[0m\u001b[0;34m)\u001b[0m\u001b[0;34m)\u001b[0m\u001b[0;34m\u001b[0m\u001b[0;34m\u001b[0m\u001b[0m\n\u001b[0m",
      "\u001b[0;31mIndexError\u001b[0m: list index out of range"
     ]
    }
   ],
   "source": [
    ""
   ]
  },
  {
   "cell_type": "code",
   "execution_count": null,
   "metadata": {
    "colab": {
     "base_uri": "https://localhost:8080/"
    },
    "id": "Y9CshvWnZ43w",
    "outputId": "23076ec2-4009-4d4c-e976-6732d791474b"
   },
   "outputs": [
    {
     "name": "stdout",
     "output_type": "stream",
     "text": [
      "Enter 1st Number :22\n",
      "Enter 2nd Number :99\n",
      "Enter 3rd Number :1\n",
      "22 is the second largest\n"
     ]
    }
   ],
   "source": [
    "a=int(input(\"Enter 1st Number :\"))\n",
    "b=int(input(\"Enter 2nd Number :\"))\n",
    "c=int(input(\"Enter 3rd Number :\"))\n",
    "\n",
    "if(a>b) and (a>c):\n",
    "  if(b>c):\n",
    "    print(b,\"is the second largest\")\n",
    "  else:\n",
    "    print(c, \"is the second largest\")\n",
    "elif(b>a) and (b>c):\n",
    "  if(a>c):\n",
    "    print(a ,\"is the second largest\")\n",
    "  else:\n",
    "    print(c, \"is the second largest\")\n",
    "elif(c>a) and (c>b):\n",
    "  if(a>b):\n",
    "    print(a ,\"is the second largest\")\n",
    "  else:\n",
    "    print(b, \"is the second largest\")\n",
    "\n",
    "\n",
    "\n"
   ]
  },
  {
   "cell_type": "markdown",
   "metadata": {
    "id": "lXjKH26aKWHy"
   },
   "source": [
    "**[Slide No.54]**\n",
    "\n",
    "4. Write a program to check whether the user enter number is 10,50 and 100 .\n",
    "\n"
   ]
  },
  {
   "cell_type": "code",
   "execution_count": null,
   "metadata": {
    "colab": {
     "base_uri": "https://localhost:8080/"
    },
    "id": "4IsUverrMj-s",
    "outputId": "a25c9747-6860-4f63-deb7-98cd5d32efb9"
   },
   "outputs": [
    {
     "name": "stdout",
     "output_type": "stream",
     "text": [
      "Enter Number :6\n",
      "False\n"
     ]
    }
   ],
   "source": [
    ""
   ]
  },
  {
   "cell_type": "code",
   "execution_count": null,
   "metadata": {
    "id": "yTguOKqVbSYx"
   },
   "outputs": [],
   "source": [
    ""
   ]
  },
  {
   "cell_type": "markdown",
   "metadata": {
    "id": "AYM79LsWKWLH"
   },
   "source": [
    "**[Slide No. 54]**\n",
    "\n",
    "5.  Write a program to check  number entered is prime number ."
   ]
  },
  {
   "cell_type": "code",
   "execution_count": null,
   "metadata": {
    "colab": {
     "base_uri": "https://localhost:8080/"
    },
    "id": "XWjDkUwgNYKM",
    "outputId": "ea410977-c3bd-4ee8-f292-efa25b32c145"
   },
   "outputs": [
    {
     "name": "stdout",
     "output_type": "stream",
     "text": [
      "Enter a Number :8\n",
      "Number is Composite\n"
     ]
    }
   ],
   "source": [
    ""
   ]
  },
  {
   "cell_type": "code",
   "execution_count": null,
   "metadata": {
    "colab": {
     "base_uri": "https://localhost:8080/"
    },
    "id": "tQu5d-GpdMU-",
    "outputId": "15b11cb6-48e6-4fec-b830-366ae9dce726"
   },
   "outputs": [
    {
     "name": "stdout",
     "output_type": "stream",
     "text": [
      "enter the number 7\n",
      "your number is a prime \n",
      "your number is a prime \n",
      "your number is a prime \n",
      "your number is a prime \n",
      "your number is a prime \n"
     ]
    }
   ],
   "source": [
    ""
   ]
  },
  {
   "cell_type": "markdown",
   "metadata": {
    "id": "hzFpudkgKWhJ"
   },
   "source": [
    "**[Slide No. 54]**\n",
    "\n",
    "6. Write a program to check given number is multiple of 6 or not ."
   ]
  },
  {
   "cell_type": "code",
   "execution_count": null,
   "metadata": {
    "colab": {
     "base_uri": "https://localhost:8080/"
    },
    "id": "GcyVovq0y9Ak",
    "outputId": "d5112243-a8db-469e-d099-a96a86a5e727"
   },
   "outputs": [
    {
     "name": "stdout",
     "output_type": "stream",
     "text": [
      "Not Divisible by 6\n"
     ]
    }
   ],
   "source": [
    "\n"
   ]
  },
  {
   "cell_type": "markdown",
   "metadata": {
    "id": "8JdbuTNnSFqg"
   },
   "source": [
    "Write a program to display the last digit of a number.\n",
    "\n",
    "Write a program to check whether the last digit of a number( entered by user ) is \n",
    "divisible by 3 or not."
   ]
  },
  {
   "cell_type": "code",
   "execution_count": null,
   "metadata": {
    "colab": {
     "base_uri": "https://localhost:8080/"
    },
    "id": "AZIVyHv4fmsl",
    "outputId": "52228207-8f78-41f6-84f5-e1370afe6007"
   },
   "outputs": [
    {
     "name": "stdout",
     "output_type": "stream",
     "text": [
      "enter the number 2890\n",
      "0\n"
     ]
    }
   ],
   "source": [
    ""
   ]
  },
  {
   "cell_type": "markdown",
   "metadata": {
    "id": "degEk71RSOEK"
   },
   "source": [
    "Write a program to calculate the electricity bill (accept number of unit from user) according to the following criteria :\n",
    "             Unit                                                             Price  \n",
    "First 100 units                                               no charge\n",
    "Next 100 units                                              Rs 5 per unit\n",
    "After 200 units                                             Rs 10 per unit\n",
    "(For example if input unit is 350 than total bill amount is Rs2000)"
   ]
  },
  {
   "cell_type": "code",
   "execution_count": null,
   "metadata": {
    "colab": {
     "base_uri": "https://localhost:8080/"
    },
    "id": "ijj3D4HieIMy",
    "outputId": "500f38a9-caf3-44e4-a304-a11fff70ff87"
   },
   "outputs": [
    {
     "name": "stdout",
     "output_type": "stream",
     "text": [
      "Enter the units consumed :600\n",
      "charges 6000\n"
     ]
    }
   ],
   "source": [
    ""
   ]
  },
  {
   "cell_type": "markdown",
   "metadata": {
    "id": "1DO8fzO3sWg1"
   },
   "source": [
    ""
   ]
  }
 ],
 "metadata": {
  "colab": {
   "collapsed_sections": [],
   "name": "Copy of Conditions (1).ipynb",
   "provenance": []
  },
  "kernelspec": {
   "display_name": "Python 3",
   "name": "python3"
  },
  "language_info": {
   "name": "python"
  }
 },
 "nbformat": 4,
 "nbformat_minor": 0
}
