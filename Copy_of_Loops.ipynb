{
 "cells": [
  {
   "cell_type": "markdown",
   "metadata": {
    "id": "nK69WNSKOEMr"
   },
   "source": [
    "**[Slide No. 60]**\n",
    "\n",
    "1. Write a program to Iterating string \"Python\" using for loop "
   ]
  },
  {
   "cell_type": "code",
   "execution_count": 3,
   "metadata": {
    "colab": {
     "base_uri": "https://localhost:8080/"
    },
    "collapsed": false,
    "id": "lH8Q6IMtzjOj",
    "outputId": "c08d7c46-89f1-4d6f-94d4-b481bd9af65c"
   },
   "outputs": [
    {
     "name": "stdout",
     "output_type": "stream",
     "text": [
      "p y t h o n "
     ]
    }
   ],
   "source": [
    "for x in \"python\":\n",
    "    print(x, end=\" \")\n"
   ]
  },
  {
   "cell_type": "markdown",
   "metadata": {
    "id": "NQNoT2HgOES7"
   },
   "source": [
    "**[Slide No. 60]**\n",
    "\n",
    "2. Write a program to print Table of a given number"
   ]
  },
  {
   "cell_type": "code",
   "execution_count": null,
   "metadata": {
    "colab": {
     "base_uri": "https://localhost:8080/"
    },
    "collapsed": false,
    "id": "k85nFzyLzkpo",
    "outputId": "cdd301f1-2874-46bf-8086-12baa2bf49cf"
   },
   "outputs": [
    {
     "name": "stdout",
     "output_type": "stream",
     "text": [
      "Show the multiplication table of 7\n",
      "7 x 1 = 7\n",
      "7 x 2 = 14\n",
      "7 x 3 = 21\n",
      "7 x 4 = 28\n",
      "7 x 5 = 35\n",
      "7 x 6 = 42\n",
      "7 x 7 = 49\n",
      "7 x 8 = 56\n",
      "7 x 9 = 63\n",
      "7 x 10 = 70\n"
     ]
    }
   ],
   "source": [
    " \n"
   ]
  },
  {
   "cell_type": "markdown",
   "metadata": {
    "id": "tgA60zXmOEWB"
   },
   "source": [
    "**[Slide No. 60]**\n",
    "\n",
    "3. Program to print the sum of the given list.\n",
    "\n",
    "list = [10,30,23,43"
   ]
  },
  {
   "cell_type": "code",
   "execution_count": null,
   "metadata": {
    "colab": {
     "base_uri": "https://localhost:8080/"
    },
    "collapsed": false,
    "id": "AdWiCFuizmCY",
    "outputId": "fd3db231-185a-417e-ac96-a280abc35bac"
   },
   "outputs": [
    {
     "name": "stdout",
     "output_type": "stream",
     "text": [
      "Sum of all elements in given list:  366\n"
     ]
    }
   ],
   "source": [
    "\n",
    "\n"
   ]
  },
  {
   "cell_type": "markdown",
   "metadata": {
    "id": "6A6vrrfbOEZj"
   },
   "source": [
    "**[Slide No. 60]**\n",
    "\n",
    "4. Program to print even number using in range(). \n",
    "\n",
    " Eg (2,4,6,8 )"
   ]
  },
  {
   "cell_type": "code",
   "execution_count": null,
   "metadata": {
    "colab": {
     "base_uri": "https://localhost:8080/"
    },
    "collapsed": false,
    "id": "1Ho757we0b6i",
    "outputId": "4ddbbe68-d7b5-43e1-ba0f-8d3ee9e05411"
   },
   "outputs": [
    {
     "name": "stdout",
     "output_type": "stream",
     "text": [
      "2\n",
      "4\n",
      "6\n",
      "8\n",
      "10\n",
      "12\n",
      "14\n",
      "16\n",
      "18\n"
     ]
    }
   ],
   "source": [
    "\n"
   ]
  },
  {
   "cell_type": "markdown",
   "metadata": {
    "id": "wJhKEYPzOEcb"
   },
   "source": [
    "**[Slide No. 61]**\n",
    "\n",
    "5. Write a Program to print 1 to 10 using while loop"
   ]
  },
  {
   "cell_type": "code",
   "execution_count": null,
   "metadata": {
    "colab": {
     "base_uri": "https://localhost:8080/"
    },
    "collapsed": false,
    "id": "ihsixXiG0cZy",
    "outputId": "c654661f-6dba-4c79-83ec-1e3885807dda"
   },
   "outputs": [
    {
     "name": "stdout",
     "output_type": "stream",
     "text": [
      "1\n",
      "2\n",
      "3\n",
      "4\n",
      "5\n",
      "6\n",
      "7\n",
      "8\n",
      "9\n",
      "10\n"
     ]
    }
   ],
   "source": [
    "i = 1\n",
    "while i<=10:\n",
    "    print(i)\n",
    "    i=i+1\n"
   ]
  },
  {
   "cell_type": "markdown",
   "metadata": {
    "id": "G-96zkiIPAQy"
   },
   "source": [
    "**[Slide No. 60]**\n",
    "\n",
    "6. Write the program to iterate every element with Hello ! ?\n",
    "\n",
    "list = ['Peter','Joseph','Ricky','Devansh']  "
   ]
  },
  {
   "cell_type": "code",
   "execution_count": null,
   "metadata": {
    "colab": {
     "base_uri": "https://localhost:8080/"
    },
    "collapsed": false,
    "id": "R1Pjp9ZP0eLX",
    "outputId": "f563005d-80f8-4a2a-edcc-bd4387d5d846"
   },
   "outputs": [
    {
     "name": "stdout",
     "output_type": "stream",
     "text": [
      "Hello ! Peter\n",
      "Hello ! Joseph\n",
      "Hello ! Ricky\n",
      "Hello ! Devansh\n"
     ]
    }
   ],
   "source": [
    "\n"
   ]
  },
  {
   "cell_type": "markdown",
   "metadata": {
    "id": "_VZNB4b2Pevh"
   },
   "source": [
    "**[Slide No. 61]**\n",
    "\n",
    "7. Write a Program to add natural using while loop :"
   ]
  },
  {
   "cell_type": "code",
   "execution_count": null,
   "metadata": {
    "colab": {
     "base_uri": "https://localhost:8080/"
    },
    "collapsed": false,
    "id": "svBUwnyu0epy",
    "outputId": "f4ed5c16-34dc-4734-8d9f-e983ab07dce7"
   },
   "outputs": [
    {
     "name": "stdout",
     "output_type": "stream",
     "text": [
      "Enter a number: 6\n",
      "The sum is 21\n"
     ]
    }
   ],
   "source": [
    "  \n"
   ]
  },
  {
   "cell_type": "markdown",
   "metadata": {
    "id": "2Ai5JW2z_Nvq"
   },
   "source": [
    "pseudo code questions just for practice "
   ]
  },
  {
   "cell_type": "code",
   "execution_count": null,
   "metadata": {
    "collapsed": true,
    "id": "-rRSckBW_NN0"
   },
   "outputs": [],
   "source": []
  },
  {
   "cell_type": "code",
   "execution_count": null,
   "metadata": {
    "collapsed": true,
    "id": "jWn9JQwS_zt0"
   },
   "outputs": [],
   "source": []
  },
  {
   "cell_type": "code",
   "execution_count": null,
   "metadata": {
    "collapsed": true,
    "id": "vXm_w-z4AK87"
   },
   "outputs": [],
   "source": []
  },
  {
   "cell_type": "code",
   "execution_count": null,
   "metadata": {
    "collapsed": true,
    "id": "bImzQe57Aqz6"
   },
   "outputs": [],
   "source": []
  }
 ],
 "metadata": {
  "anaconda-cloud": {},
  "colab": {
   "collapsed_sections": [],
   "name": "Copy of Loops (2).ipynb",
   "provenance": []
  },
  "kernelspec": {
   "display_name": "Python [default]",
   "language": "python",
   "name": "python3"
  },
  "language_info": {
   "codemirror_mode": {
    "name": "ipython",
    "version": 3
   },
   "file_extension": ".py",
   "mimetype": "text/x-python",
   "name": "python",
   "nbconvert_exporter": "python",
   "pygments_lexer": "ipython3",
   "version": "3.5.2"
  }
 },
 "nbformat": 4,
 "nbformat_minor": 0
}
