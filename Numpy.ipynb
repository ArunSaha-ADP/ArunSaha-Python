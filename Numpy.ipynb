{
 "cells": [
  {
   "cell_type": "code",
   "execution_count": 1,
   "metadata": {
    "colab": {
     "base_uri": "https://localhost:8080/"
    },
    "collapsed": false,
    "executionInfo": {
     "elapsed": 1616,
     "status": "ok",
     "timestamp": 1617356446346,
     "user": {
      "displayName": "Anup Thatal",
      "photoUrl": "",
      "userId": "08593839573693118675"
     },
     "user_tz": -330
    },
    "id": "CMr7-D7P9FFn",
    "outputId": "e1687c4b-c6f9-49f9-c6eb-dc1120c22994"
   },
   "outputs": [
    {
     "name": "stdout",
     "output_type": "stream",
     "text": [
      "1\n"
     ]
    }
   ],
   "source": [
    "import numpy as np\n",
    "\n",
    "arr = np.array([1, 2, 3, 4])\n",
    "\n",
    "print(arr[0])"
   ]
  },
  {
   "cell_type": "code",
   "execution_count": 2,
   "metadata": {
    "colab": {
     "base_uri": "https://localhost:8080/"
    },
    "collapsed": false,
    "executionInfo": {
     "elapsed": 2525,
     "status": "ok",
     "timestamp": 1617358892907,
     "user": {
      "displayName": "Anup Thatal",
      "photoUrl": "",
      "userId": "08593839573693118675"
     },
     "user_tz": -330
    },
    "id": "CuDuz-AK9JdV",
    "outputId": "384c7cb1-ae4d-4993-de91-f6f055c9c82f"
   },
   "outputs": [
    {
     "name": "stdout",
     "output_type": "stream",
     "text": [
      "[1 3]\n"
     ]
    }
   ],
   "source": [
    "import numpy as np \n",
    "array=np.array([1,2,3,4,5,6])\n",
    "print(array[0:3:2])\n"
   ]
  },
  {
   "cell_type": "code",
   "execution_count": null,
   "metadata": {
    "colab": {
     "base_uri": "https://localhost:8080/"
    },
    "collapsed": false,
    "executionInfo": {
     "elapsed": 1096,
     "status": "ok",
     "timestamp": 1617358291223,
     "user": {
      "displayName": "Anup Thatal",
      "photoUrl": "",
      "userId": "08593839573693118675"
     },
     "user_tz": -330
    },
    "id": "b4Et55s2BcMh",
    "outputId": "f81656ad-b15b-4e24-bde8-1bd09857b812"
   },
   "outputs": [
    {
     "name": "stdout",
     "output_type": "stream",
     "text": [
      "[4 5]\n"
     ]
    }
   ],
   "source": [
    "import numpy as np \n",
    "array=np.array([1,2,3,4,5,6])\n",
    "print(array[-3:-1])"
   ]
  },
  {
   "cell_type": "code",
   "execution_count": null,
   "metadata": {
    "colab": {
     "base_uri": "https://localhost:8080/"
    },
    "collapsed": false,
    "executionInfo": {
     "elapsed": 4720,
     "status": "ok",
     "timestamp": 1617429045799,
     "user": {
      "displayName": "Anup Thatal",
      "photoUrl": "",
      "userId": "08593839573693118675"
     },
     "user_tz": -330
    },
    "id": "VaCyhrAxEPol",
    "outputId": "87cd1f63-8e16-4a54-f118-667ec155ccd7"
   },
   "outputs": [
    {
     "name": "stdout",
     "output_type": "stream",
     "text": [
      "[[7 7 3]\n",
      " [9 3 7]\n",
      " [3 3 7]]\n"
     ]
    }
   ],
   "source": [
    "from numpy import random\n",
    "\n",
    "x = random.choice([3, 5, 7, 9], size=(3, 3))\n",
    "\n",
    "print(x)"
   ]
  },
  {
   "cell_type": "code",
   "execution_count": 4,
   "metadata": {
    "colab": {
     "base_uri": "https://localhost:8080/"
    },
    "collapsed": false,
    "executionInfo": {
     "elapsed": 1664,
     "status": "ok",
     "timestamp": 1617429546078,
     "user": {
      "displayName": "Anup Thatal",
      "photoUrl": "",
      "userId": "08593839573693118675"
     },
     "user_tz": -330
    },
    "id": "ug4unV2uSEre",
    "outputId": "90edc3ef-75d0-48eb-b6c8-a0f148ac570c"
   },
   "outputs": [
    {
     "name": "stdout",
     "output_type": "stream",
     "text": [
      "[3 5 7]\n"
     ]
    }
   ],
   "source": [
    "import numpy as np \n",
    "\n",
    "a=np.array([1,2,3])\n",
    "b=np.array([2,3,4])\n",
    "\n",
    "c=a+b\n",
    "\n",
    "print(c)\n"
   ]
  },
  {
   "cell_type": "code",
   "execution_count": 7,
   "metadata": {
    "collapsed": false
   },
   "outputs": [
    {
     "data": {
      "text/plain": [
       "array([3, 5, 7])"
      ]
     },
     "execution_count": 7,
     "metadata": {},
     "output_type": "execute_result"
    }
   ],
   "source": [
    "c"
   ]
  },
  {
   "cell_type": "code",
   "execution_count": null,
   "metadata": {
    "colab": {
     "base_uri": "https://localhost:8080/"
    },
    "collapsed": false,
    "executionInfo": {
     "elapsed": 3242,
     "status": "ok",
     "timestamp": 1617429865141,
     "user": {
      "displayName": "Anup Thatal",
      "photoUrl": "",
      "userId": "08593839573693118675"
     },
     "user_tz": -330
    },
    "id": "7P-i1Ft1UDw_",
    "outputId": "23a8b95a-0794-4c18-9dc4-ac360e8a9ea7"
   },
   "outputs": [
    {
     "name": "stdout",
     "output_type": "stream",
     "text": [
      "20\n"
     ]
    }
   ],
   "source": [
    "import numpy as np \n",
    "\n",
    "a=np.array([1,2,3])\n",
    "b=np.array([2,3,4])\n",
    "\n",
    "print(np.dot(a,b))"
   ]
  },
  {
   "cell_type": "code",
   "execution_count": null,
   "metadata": {
    "colab": {
     "base_uri": "https://localhost:8080/"
    },
    "collapsed": false,
    "executionInfo": {
     "elapsed": 1627,
     "status": "ok",
     "timestamp": 1617430277246,
     "user": {
      "displayName": "Anup Thatal",
      "photoUrl": "",
      "userId": "08593839573693118675"
     },
     "user_tz": -330
    },
    "id": "9H4PTTDbU228",
    "outputId": "5983fa3e-5e92-4f56-9231-84318606ffa3"
   },
   "outputs": [
    {
     "name": "stdout",
     "output_type": "stream",
     "text": [
      "[[33 37]\n",
      " [35 42]]\n"
     ]
    }
   ],
   "source": [
    "a=np.array([[1,2,3],[2,2,3]])\n",
    "b=np.array([[2,5],[5,4],[7,8]])\n",
    "print(np.dot(a,b))"
   ]
  },
  {
   "cell_type": "code",
   "execution_count": null,
   "metadata": {
    "colab": {
     "base_uri": "https://localhost:8080/"
    },
    "collapsed": false,
    "executionInfo": {
     "elapsed": 2000,
     "status": "ok",
     "timestamp": 1617430461494,
     "user": {
      "displayName": "Anup Thatal",
      "photoUrl": "",
      "userId": "08593839573693118675"
     },
     "user_tz": -330
    },
    "id": "-sBUF02vWuSq",
    "outputId": "0fe75080-c0b7-4d52-b4a7-44fd78cf13b1"
   },
   "outputs": [
    {
     "name": "stdout",
     "output_type": "stream",
     "text": [
      "[[-1 -3 -3]\n",
      " [-3 -2 -4]]\n"
     ]
    }
   ],
   "source": [
    "a=np.array([[1,2,3],[2,2,3]])\n",
    "b=np.array([[2,5,6],[5,4,7]])\n",
    "print(a-b)"
   ]
  },
  {
   "cell_type": "code",
   "execution_count": null,
   "metadata": {
    "colab": {
     "base_uri": "https://localhost:8080/"
    },
    "collapsed": false,
    "executionInfo": {
     "elapsed": 1378,
     "status": "ok",
     "timestamp": 1617431208408,
     "user": {
      "displayName": "Anup Thatal",
      "photoUrl": "",
      "userId": "08593839573693118675"
     },
     "user_tz": -330
    },
    "id": "hB0D4VzDXd5m",
    "outputId": "085eb362-1b48-4ab9-a3b5-c0a5a6e163df"
   },
   "outputs": [
    {
     "data": {
      "text/plain": [
       "array([[1., 1.],\n",
       "       [1., 1.],\n",
       "       [1., 1.]])"
      ]
     },
     "execution_count": 12,
     "metadata": {
      "tags": []
     },
     "output_type": "execute_result"
    }
   ],
   "source": [
    "import numpy as np \n",
    "np.ones((3,2))"
   ]
  },
  {
   "cell_type": "code",
   "execution_count": null,
   "metadata": {
    "colab": {
     "base_uri": "https://localhost:8080/"
    },
    "collapsed": false,
    "executionInfo": {
     "elapsed": 3593,
     "status": "ok",
     "timestamp": 1617431347790,
     "user": {
      "displayName": "Anup Thatal",
      "photoUrl": "",
      "userId": "08593839573693118675"
     },
     "user_tz": -330
    },
    "id": "Ik2OFPdFaWHr",
    "outputId": "a18cfa76-b410-4c27-f0da-57ae6f260b7d"
   },
   "outputs": [
    {
     "data": {
      "text/plain": [
       "array([[0., 0.],\n",
       "       [0., 0.],\n",
       "       [0., 0.]])"
      ]
     },
     "execution_count": 13,
     "metadata": {
      "tags": []
     },
     "output_type": "execute_result"
    }
   ],
   "source": [
    "import numpy as np\n",
    "np.zeros((3,2))"
   ]
  },
  {
   "cell_type": "code",
   "execution_count": null,
   "metadata": {
    "collapsed": true,
    "id": "f_FhOQjG-uKE"
   },
   "outputs": [],
   "source": []
  }
 ],
 "metadata": {
  "colab": {
   "authorship_tag": "ABX9TyNE7U1KQMRTeOu9K4DrQAyx",
   "name": "Numpy.ipynb",
   "provenance": []
  },
  "kernelspec": {
   "display_name": "Python [default]",
   "language": "python",
   "name": "python3"
  },
  "language_info": {
   "codemirror_mode": {
    "name": "ipython",
    "version": 3
   },
   "file_extension": ".py",
   "mimetype": "text/x-python",
   "name": "python",
   "nbconvert_exporter": "python",
   "pygments_lexer": "ipython3",
   "version": "3.5.2"
  }
 },
 "nbformat": 4,
 "nbformat_minor": 0
}
