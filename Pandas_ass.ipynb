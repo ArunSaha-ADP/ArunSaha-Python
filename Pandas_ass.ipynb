{
 "cells": [
  {
   "cell_type": "markdown",
   "metadata": {
    "id": "S2q1kcBa8gJi"
   },
   "source": [
    "**[Slide No. 7]**\n",
    "\n",
    "1. Create  1-D array(series ) in pandas."
   ]
  },
  {
   "cell_type": "code",
   "execution_count": null,
   "metadata": {
    "colab": {
     "base_uri": "https://localhost:8080/",
     "height": 35
    },
    "collapsed": false,
    "executionInfo": {
     "elapsed": 36,
     "status": "ok",
     "timestamp": 1624192963853,
     "user": {
      "displayName": "Krishan Kumar",
      "photoUrl": "",
      "userId": "12260471180281868064"
     },
     "user_tz": 420
    },
    "id": "cTdpfMgCbikz",
    "outputId": "f3ba4374-6802-4f20-d019-3d50210c4a53"
   },
   "outputs": [
    {
     "data": {
      "application/vnd.google.colaboratory.intrinsic+json": {
       "type": "string"
      },
      "text/plain": [
       "'a=pd.Series(np.random.random(10))\\na'"
      ]
     },
     "execution_count": 3,
     "metadata": {
      "tags": []
     },
     "output_type": "execute_result"
    }
   ],
   "source": [
    "a=pd.Series(np.random.random(10))\n",
    "a\n"
   ]
  },
  {
   "cell_type": "code",
   "execution_count": 3,
   "metadata": {
    "colab": {
     "base_uri": "https://localhost:8080/"
    },
    "collapsed": false,
    "executionInfo": {
     "elapsed": 504,
     "status": "ok",
     "timestamp": 1624192940065,
     "user": {
      "displayName": "Krishan Kumar",
      "photoUrl": "",
      "userId": "12260471180281868064"
     },
     "user_tz": 420
    },
    "id": "1v-It2lDcNkJ",
    "outputId": "f58cce42-d1d4-4ffc-c63b-a8888ef1ef0d"
   },
   "outputs": [
    {
     "data": {
      "text/plain": [
       "0    5\n",
       "1    2\n",
       "2    7\n",
       "3    4\n",
       "4    1\n",
       "dtype: int64"
      ]
     },
     "execution_count": 3,
     "metadata": {},
     "output_type": "execute_result"
    }
   ],
   "source": [
    "import pandas as pd\n",
    "a=[5,2,7,4,1]     # create a list \n",
    "v=pd.Series(data=a)\n",
    "v\n"
   ]
  },
  {
   "cell_type": "markdown",
   "metadata": {
    "id": "mrGMbgWzLXMk"
   },
   "source": [
    "**[Slide No. 7]**\n",
    "\n",
    "2. Create a pandas series from a list ."
   ]
  },
  {
   "cell_type": "code",
   "execution_count": null,
   "metadata": {
    "colab": {
     "base_uri": "https://localhost:8080/"
    },
    "collapsed": false,
    "executionInfo": {
     "elapsed": 500,
     "status": "ok",
     "timestamp": 1624192996384,
     "user": {
      "displayName": "Krishan Kumar",
      "photoUrl": "",
      "userId": "12260471180281868064"
     },
     "user_tz": 420
    },
    "id": "1_vQSEgicfAl",
    "outputId": "faf53817-e498-4b78-c92a-f7db106b7392"
   },
   "outputs": [
    {
     "data": {
      "text/plain": [
       "0    5\n",
       "1    2\n",
       "2    7\n",
       "3    4\n",
       "4    1\n",
       "dtype: int64"
      ]
     },
     "execution_count": 4,
     "metadata": {
      "tags": []
     },
     "output_type": "execute_result"
    }
   ],
   "source": [
    "import pandas as pd\n",
    "a=[5,2,7,4,1]     # create a list \n",
    "v=pd.Series(data=a)\n",
    "v"
   ]
  },
  {
   "cell_type": "markdown",
   "metadata": {
    "id": "PHsEyN1GLowW"
   },
   "source": [
    "**[Slide No. 8]**\n",
    "3. Create a pandas series with user define index."
   ]
  },
  {
   "cell_type": "code",
   "execution_count": null,
   "metadata": {
    "colab": {
     "base_uri": "https://localhost:8080/"
    },
    "collapsed": false,
    "executionInfo": {
     "elapsed": 503,
     "status": "ok",
     "timestamp": 1624193089895,
     "user": {
      "displayName": "Krishan Kumar",
      "photoUrl": "",
      "userId": "12260471180281868064"
     },
     "user_tz": 420
    },
    "id": "o3RWM56Lcnvg",
    "outputId": "00e0af1a-d56c-4a32-ead8-878a6e517030"
   },
   "outputs": [
    {
     "data": {
      "text/plain": [
       "zeroth_row    5\n",
       "first_row     2\n",
       "second_row    7\n",
       "third_row     4\n",
       "fourth_row    1\n",
       "dtype: int64"
      ]
     },
     "execution_count": 5,
     "metadata": {
      "tags": []
     },
     "output_type": "execute_result"
    }
   ],
   "source": [
    "row_labels=['zeroth_row','first_row','second_row','third_row','fourth_row']\n",
    "import pandas as pd\n",
    "a=[5,2,7,4,1]     # create a list \n",
    "v=pd.Series(data=a,index=row_labels)\n",
    "v"
   ]
  },
  {
   "cell_type": "markdown",
   "metadata": {
    "id": "9ZXzLs2xMWy2"
   },
   "source": [
    "**[Slide No. 10]**\n",
    "\n",
    "4. Write a program to create Dataframe by  Dictionay ."
   ]
  },
  {
   "cell_type": "code",
   "execution_count": null,
   "metadata": {
    "colab": {
     "base_uri": "https://localhost:8080/",
     "height": 141
    },
    "collapsed": false,
    "executionInfo": {
     "elapsed": 40,
     "status": "ok",
     "timestamp": 1624193449017,
     "user": {
      "displayName": "Krishan Kumar",
      "photoUrl": "",
      "userId": "12260471180281868064"
     },
     "user_tz": 420
    },
    "id": "XUjDD97ALD2C",
    "outputId": "04a26a97-3e7d-454f-b2d2-28db649008e2"
   },
   "outputs": [
    {
     "data": {
      "text/html": [
       "<div>\n",
       "<style scoped>\n",
       "    .dataframe tbody tr th:only-of-type {\n",
       "        vertical-align: middle;\n",
       "    }\n",
       "\n",
       "    .dataframe tbody tr th {\n",
       "        vertical-align: top;\n",
       "    }\n",
       "\n",
       "    .dataframe thead th {\n",
       "        text-align: right;\n",
       "    }\n",
       "</style>\n",
       "<table border=\"1\" class=\"dataframe\">\n",
       "  <thead>\n",
       "    <tr style=\"text-align: right;\">\n",
       "      <th></th>\n",
       "      <th>Name</th>\n",
       "      <th>Age</th>\n",
       "    </tr>\n",
       "  </thead>\n",
       "  <tbody>\n",
       "    <tr>\n",
       "      <th>0</th>\n",
       "      <td>KRish</td>\n",
       "      <td>25</td>\n",
       "    </tr>\n",
       "    <tr>\n",
       "      <th>1</th>\n",
       "      <td>Krishan</td>\n",
       "      <td>23</td>\n",
       "    </tr>\n",
       "    <tr>\n",
       "      <th>2</th>\n",
       "      <td>Ram</td>\n",
       "      <td>34</td>\n",
       "    </tr>\n",
       "  </tbody>\n",
       "</table>\n",
       "</div>"
      ],
      "text/plain": [
       "      Name  Age\n",
       "0    KRish   25\n",
       "1  Krishan   23\n",
       "2      Ram   34"
      ]
     },
     "execution_count": 6,
     "metadata": {
      "tags": []
     },
     "output_type": "execute_result"
    }
   ],
   "source": [
    "Dict={\n",
    "    'Name':['KRish',\"Krishan\",\"Ram\"],\n",
    "    'Age':[25,23,34]\n",
    "}\n",
    "df=pd.DataFrame(Dict)\n",
    "df"
   ]
  },
  {
   "cell_type": "code",
   "execution_count": null,
   "metadata": {
    "colab": {
     "base_uri": "https://localhost:8080/",
     "height": 141
    },
    "collapsed": false,
    "executionInfo": {
     "elapsed": 449,
     "status": "ok",
     "timestamp": 1624193594396,
     "user": {
      "displayName": "Krishan Kumar",
      "photoUrl": "",
      "userId": "12260471180281868064"
     },
     "user_tz": 420
    },
    "id": "JmGyOiT2ewnv",
    "outputId": "e0b6c679-a7bf-4763-e82b-94b874fa979a"
   },
   "outputs": [
    {
     "data": {
      "text/html": [
       "<div>\n",
       "<style scoped>\n",
       "    .dataframe tbody tr th:only-of-type {\n",
       "        vertical-align: middle;\n",
       "    }\n",
       "\n",
       "    .dataframe tbody tr th {\n",
       "        vertical-align: top;\n",
       "    }\n",
       "\n",
       "    .dataframe thead th {\n",
       "        text-align: right;\n",
       "    }\n",
       "</style>\n",
       "<table border=\"1\" class=\"dataframe\">\n",
       "  <thead>\n",
       "    <tr style=\"text-align: right;\">\n",
       "      <th></th>\n",
       "      <th>Name</th>\n",
       "      <th>Age</th>\n",
       "    </tr>\n",
       "  </thead>\n",
       "  <tbody>\n",
       "    <tr>\n",
       "      <th>0</th>\n",
       "      <td>Vikas</td>\n",
       "      <td>37</td>\n",
       "    </tr>\n",
       "    <tr>\n",
       "      <th>1</th>\n",
       "      <td>Aneya</td>\n",
       "      <td>35</td>\n",
       "    </tr>\n",
       "    <tr>\n",
       "      <th>2</th>\n",
       "      <td>Nilambari</td>\n",
       "      <td>8</td>\n",
       "    </tr>\n",
       "  </tbody>\n",
       "</table>\n",
       "</div>"
      ],
      "text/plain": [
       "        Name  Age\n",
       "0      Vikas   37\n",
       "1      Aneya   35\n",
       "2  Nilambari    8"
      ]
     },
     "execution_count": 9,
     "metadata": {
      "tags": []
     },
     "output_type": "execute_result"
    }
   ],
   "source": [
    "dict1={\"Name\":[\"Vikas\",\"Aneya\",\"Nilambari\"],\n",
    "       \"Age\":[37,35,8]}\n",
    "df=pd.DataFrame(dict1)\n",
    "df\n"
   ]
  },
  {
   "cell_type": "code",
   "execution_count": 4,
   "metadata": {
    "colab": {
     "base_uri": "https://localhost:8080/",
     "height": 202
    },
    "collapsed": false,
    "executionInfo": {
     "elapsed": 549,
     "status": "ok",
     "timestamp": 1624193501397,
     "user": {
      "displayName": "Krishan Kumar",
      "photoUrl": "",
      "userId": "12260471180281868064"
     },
     "user_tz": 420
    },
    "id": "y4Lj21-6efY8",
    "outputId": "e58dfd2f-de99-4940-eb19-47a154545ec0"
   },
   "outputs": [
    {
     "ename": "PandasError",
     "evalue": "DataFrame constructor not properly called!",
     "output_type": "error",
     "traceback": [
      "\u001b[0;31m---------------------------------------------------------------------------\u001b[0m",
      "\u001b[0;31mPandasError\u001b[0m                               Traceback (most recent call last)",
      "\u001b[0;32m<ipython-input-4-12205d07b7d6>\u001b[0m in \u001b[0;36m<module>\u001b[0;34m()\u001b[0m\n\u001b[1;32m      1\u001b[0m \u001b[0mdict_numbers\u001b[0m\u001b[1;33m=\u001b[0m\u001b[1;33m{\u001b[0m\u001b[1;36m1\u001b[0m\u001b[1;33m,\u001b[0m\u001b[1;36m2\u001b[0m\u001b[1;33m,\u001b[0m\u001b[1;36m3\u001b[0m\u001b[1;33m,\u001b[0m\u001b[1;36m4\u001b[0m\u001b[1;33m,\u001b[0m\u001b[1;36m5\u001b[0m\u001b[1;33m}\u001b[0m   \u001b[1;31m#set datatype\u001b[0m\u001b[1;33m\u001b[0m\u001b[0m\n\u001b[1;32m      2\u001b[0m \u001b[0mdict_marks\u001b[0m\u001b[1;33m=\u001b[0m\u001b[1;33m{\u001b[0m\u001b[1;36m85\u001b[0m\u001b[1;33m,\u001b[0m\u001b[1;36m45\u001b[0m\u001b[1;33m,\u001b[0m\u001b[1;36m96\u001b[0m\u001b[1;33m,\u001b[0m\u001b[1;36m97\u001b[0m\u001b[1;33m,\u001b[0m\u001b[1;36m37\u001b[0m\u001b[1;33m}\u001b[0m\u001b[1;33m\u001b[0m\u001b[0m\n\u001b[0;32m----> 3\u001b[0;31m \u001b[0mdf\u001b[0m\u001b[1;33m=\u001b[0m\u001b[0mpd\u001b[0m\u001b[1;33m.\u001b[0m\u001b[0mDataFrame\u001b[0m\u001b[1;33m(\u001b[0m\u001b[0mdict_numbers\u001b[0m\u001b[1;33m,\u001b[0m\u001b[0mdict_marks\u001b[0m\u001b[1;33m)\u001b[0m\u001b[1;33m\u001b[0m\u001b[0m\n\u001b[0m\u001b[1;32m      4\u001b[0m \u001b[0mdf\u001b[0m\u001b[1;33m\u001b[0m\u001b[0m\n",
      "\u001b[0;32mC:\\Program Files\\Anaconda3\\lib\\site-packages\\pandas\\core\\frame.py\u001b[0m in \u001b[0;36m__init__\u001b[0;34m(self, data, index, columns, dtype, copy)\u001b[0m\n\u001b[1;32m    301\u001b[0m                                          copy=False)\n\u001b[1;32m    302\u001b[0m             \u001b[1;32melse\u001b[0m\u001b[1;33m:\u001b[0m\u001b[1;33m\u001b[0m\u001b[0m\n\u001b[0;32m--> 303\u001b[0;31m                 \u001b[1;32mraise\u001b[0m \u001b[0mPandasError\u001b[0m\u001b[1;33m(\u001b[0m\u001b[1;34m'DataFrame constructor not properly called!'\u001b[0m\u001b[1;33m)\u001b[0m\u001b[1;33m\u001b[0m\u001b[0m\n\u001b[0m\u001b[1;32m    304\u001b[0m \u001b[1;33m\u001b[0m\u001b[0m\n\u001b[1;32m    305\u001b[0m         \u001b[0mNDFrame\u001b[0m\u001b[1;33m.\u001b[0m\u001b[0m__init__\u001b[0m\u001b[1;33m(\u001b[0m\u001b[0mself\u001b[0m\u001b[1;33m,\u001b[0m \u001b[0mmgr\u001b[0m\u001b[1;33m,\u001b[0m \u001b[0mfastpath\u001b[0m\u001b[1;33m=\u001b[0m\u001b[1;32mTrue\u001b[0m\u001b[1;33m)\u001b[0m\u001b[1;33m\u001b[0m\u001b[0m\n",
      "\u001b[0;31mPandasError\u001b[0m: DataFrame constructor not properly called!"
     ]
    }
   ],
   "source": [
    "dict_numbers={1,2,3,4,5}   #set datatype \n",
    "dict_marks={85,45,96,97,37}\n",
    "df=pd.DataFrame(dict_numbers,dict_marks)\n",
    "df\n"
   ]
  },
  {
   "cell_type": "markdown",
   "metadata": {
    "id": "fC_NvOu38rZ2"
   },
   "source": [
    "\n",
    "**[Slide No. 11]**\n",
    "\n",
    "5. Create DataFrame and put index  \n",
    "\n",
    "data = np.array(['a','b','c','d']) \n",
    "\n",
    "index=[100,101,102,103]"
   ]
  },
  {
   "cell_type": "code",
   "execution_count": null,
   "metadata": {
    "collapsed": true,
    "id": "ZO-Tcv6KeqUn"
   },
   "outputs": [],
   "source": [
    "data = np.array(['a','b','c','d'])\n",
    "\n",
    "index=[100,101,102,103]"
   ]
  },
  {
   "cell_type": "code",
   "execution_count": null,
   "metadata": {
    "colab": {
     "base_uri": "https://localhost:8080/",
     "height": 172
    },
    "collapsed": false,
    "executionInfo": {
     "elapsed": 489,
     "status": "ok",
     "timestamp": 1624193651247,
     "user": {
      "displayName": "Krishan Kumar",
      "photoUrl": "",
      "userId": "12260471180281868064"
     },
     "user_tz": 420
    },
    "id": "nQtgVhxGfEHs",
    "outputId": "2351acdf-553a-453e-d723-277c5fd2246a"
   },
   "outputs": [
    {
     "data": {
      "text/html": [
       "<div>\n",
       "<style scoped>\n",
       "    .dataframe tbody tr th:only-of-type {\n",
       "        vertical-align: middle;\n",
       "    }\n",
       "\n",
       "    .dataframe tbody tr th {\n",
       "        vertical-align: top;\n",
       "    }\n",
       "\n",
       "    .dataframe thead th {\n",
       "        text-align: right;\n",
       "    }\n",
       "</style>\n",
       "<table border=\"1\" class=\"dataframe\">\n",
       "  <thead>\n",
       "    <tr style=\"text-align: right;\">\n",
       "      <th></th>\n",
       "      <th>0</th>\n",
       "    </tr>\n",
       "  </thead>\n",
       "  <tbody>\n",
       "    <tr>\n",
       "      <th>100</th>\n",
       "      <td>a</td>\n",
       "    </tr>\n",
       "    <tr>\n",
       "      <th>101</th>\n",
       "      <td>b</td>\n",
       "    </tr>\n",
       "    <tr>\n",
       "      <th>102</th>\n",
       "      <td>c</td>\n",
       "    </tr>\n",
       "    <tr>\n",
       "      <th>103</th>\n",
       "      <td>d</td>\n",
       "    </tr>\n",
       "  </tbody>\n",
       "</table>\n",
       "</div>"
      ],
      "text/plain": [
       "     0\n",
       "100  a\n",
       "101  b\n",
       "102  c\n",
       "103  d"
      ]
     },
     "execution_count": 10,
     "metadata": {
      "tags": []
     },
     "output_type": "execute_result"
    }
   ],
   "source": [
    "import numpy as np\n",
    "data = np.array(['a','b','c','d'])  #series \n",
    "\n",
    "index=[100,101,102,103]            #list of index\n",
    "\n",
    "df = pd.DataFrame(data,index=index)\n",
    "\n",
    "df\n"
   ]
  },
  {
   "cell_type": "markdown",
   "metadata": {
    "id": "CkuOePHX9QDs"
   },
   "source": [
    "**[Slide No. 11]**\n",
    "\n",
    "6. Accessing Data from Series with Position\n",
    "\n",
    "s = pd.Series([1,2,3,4,5],index = ['a','b','c','d','e'])"
   ]
  },
  {
   "cell_type": "code",
   "execution_count": null,
   "metadata": {
    "colab": {
     "base_uri": "https://localhost:8080/"
    },
    "collapsed": false,
    "executionInfo": {
     "elapsed": 352,
     "status": "ok",
     "timestamp": 1626610239498,
     "user": {
      "displayName": "Rohit Reddy",
      "photoUrl": "",
      "userId": "02730466121517960450"
     },
     "user_tz": -330
    },
    "id": "C66ZvpGrfCOK",
    "outputId": "3261aa2d-d5a0-4d7c-822e-620f432bc09d"
   },
   "outputs": [
    {
     "data": {
      "text/plain": [
       "3"
      ]
     },
     "execution_count": 4,
     "metadata": {
      "tags": []
     },
     "output_type": "execute_result"
    }
   ],
   "source": [
    "import pandas as pd\n",
    "s = pd.Series([1,2,3,4,5],index = ['a','b','c','d','e'])\n",
    "s\n",
    "s['c']"
   ]
  },
  {
   "cell_type": "code",
   "execution_count": null,
   "metadata": {
    "colab": {
     "base_uri": "https://localhost:8080/",
     "height": 211
    },
    "collapsed": false,
    "executionInfo": {
     "elapsed": 448,
     "status": "ok",
     "timestamp": 1624195213368,
     "user": {
      "displayName": "Krishan Kumar",
      "photoUrl": "",
      "userId": "12260471180281868064"
     },
     "user_tz": 420
    },
    "id": "vAwGn-GHfuFa",
    "outputId": "822d5936-8b2e-486e-aafe-2f10b905aa8a"
   },
   "outputs": [
    {
     "name": "stdout",
     "output_type": "stream",
     "text": [
      "      Name  Age  Height\n",
      "0    KRish   25     5.0\n",
      "1  Krishan   23     6.0\n",
      "2      Ram   34     5.5\n",
      "3   Pallab   32     6.0\n",
      "4      Raj   23     5.9\n"
     ]
    },
    {
     "data": {
      "text/html": [
       "<div>\n",
       "<style scoped>\n",
       "    .dataframe tbody tr th:only-of-type {\n",
       "        vertical-align: middle;\n",
       "    }\n",
       "\n",
       "    .dataframe tbody tr th {\n",
       "        vertical-align: top;\n",
       "    }\n",
       "\n",
       "    .dataframe thead th {\n",
       "        text-align: right;\n",
       "    }\n",
       "</style>\n",
       "<table border=\"1\" class=\"dataframe\">\n",
       "  <thead>\n",
       "    <tr style=\"text-align: right;\">\n",
       "      <th></th>\n",
       "      <th>Height</th>\n",
       "    </tr>\n",
       "  </thead>\n",
       "  <tbody>\n",
       "    <tr>\n",
       "      <th>1</th>\n",
       "      <td>6.0</td>\n",
       "    </tr>\n",
       "    <tr>\n",
       "      <th>2</th>\n",
       "      <td>5.5</td>\n",
       "    </tr>\n",
       "  </tbody>\n",
       "</table>\n",
       "</div>"
      ],
      "text/plain": [
       "   Height\n",
       "1     6.0\n",
       "2     5.5"
      ]
     },
     "execution_count": 25,
     "metadata": {
      "tags": []
     },
     "output_type": "execute_result"
    }
   ],
   "source": [
    "Dict={\n",
    "    'Name':['KRish',\"Krishan\",\"Ram\",'Pallab','Raj'],\n",
    "    'Age':[25,23,34,32,23],\n",
    "    'Height':[5,6,5.5,6,5.9]\n",
    "}\n",
    "df=pd.DataFrame(Dict)\n",
    "print(df)\n",
    "df.iloc[0:2,]         #print First two rows\n",
    "#df.iloc[1:3,0:2]     #print second and 3rd row and 1and 2nd col\n",
    "#df.iloc[2:4,1:3]\n",
    "\n",
    "#df.iloc[1:3,0:3:2]\n",
    "df.iloc[1:3,[-1]]"
   ]
  },
  {
   "cell_type": "markdown",
   "metadata": {
    "id": "_aznSqr-QUOB"
   },
   "source": [
    "**[Slide No. 11]**\n",
    "\n",
    "7. Create a DataFrame in which you have 2 columns(Name , Age) .\n",
    "And fill the data into this columns and use user define index"
   ]
  },
  {
   "cell_type": "markdown",
   "metadata": {
    "id": "uSuFtJORNdRU"
   },
   "source": [
    "**[Slide No. 13]**\n",
    "\n",
    "8. Read the Csv/Excel file and convert it into DataFrame ."
   ]
  },
  {
   "cell_type": "markdown",
   "metadata": {
    "id": "FqQBEq5EOceC"
   },
   "source": [
    "**[Slide No. 15]**\n",
    "\n",
    "9. Print the top 5 and last 5 rows of the DataFrame"
   ]
  },
  {
   "cell_type": "code",
   "execution_count": null,
   "metadata": {
    "collapsed": true,
    "id": "fiZ6CnwBAaPA"
   },
   "outputs": [],
   "source": []
  },
  {
   "cell_type": "markdown",
   "metadata": {
    "id": "qJFd9Aj79c48"
   },
   "source": [
    "**[Slide No. 16]**\n",
    "\n",
    "10. write a program to print 3 Row of the DataFrame ."
   ]
  },
  {
   "cell_type": "code",
   "execution_count": null,
   "metadata": {
    "collapsed": true,
    "id": "Z-nnQMLZAb6b"
   },
   "outputs": [],
   "source": []
  },
  {
   "cell_type": "markdown",
   "metadata": {
    "id": "ZKKUIxjX9qVE"
   },
   "source": [
    "**[Slide No. 17]**\n",
    "\n",
    "11. Write a Program to print First two Columns of the DataFrame.\n"
   ]
  },
  {
   "cell_type": "markdown",
   "metadata": {
    "id": "FJdOezKt-NUS"
   },
   "source": [
    "**[Slide No .18]**\n",
    "\n",
    "12.  Write a Program to filter the DataFrame and print First 2 row and first two column of the DataFrame."
   ]
  },
  {
   "cell_type": "code",
   "execution_count": null,
   "metadata": {
    "collapsed": true,
    "id": "bLHKIeZZ_byg"
   },
   "outputs": [],
   "source": []
  },
  {
   "cell_type": "markdown",
   "metadata": {
    "id": "UddB37a0-mWx"
   },
   "source": [
    "**[Slide No. 19]**\n",
    "\n",
    "13. Write a Program to Find the Null/missing value in the DataFrame."
   ]
  },
  {
   "cell_type": "markdown",
   "metadata": {
    "id": "QqYxlAL9GoAS"
   },
   "source": [
    "**[Slide No. 10]**\n",
    "\n",
    "14. Create DataFrame from dict and list"
   ]
  },
  {
   "cell_type": "code",
   "execution_count": null,
   "metadata": {
    "collapsed": true,
    "id": "Zq8eOqBc_cOY"
   },
   "outputs": [],
   "source": []
  },
  {
   "cell_type": "markdown",
   "metadata": {
    "id": "AWhhpeCTRNrq"
   },
   "source": [
    "**[Slide No. 21]**\n",
    "\n",
    "15. Write a Program to drop the rows which has null value."
   ]
  },
  {
   "cell_type": "code",
   "execution_count": null,
   "metadata": {
    "collapsed": true,
    "id": "ypSLvUI6Aiz5"
   },
   "outputs": [],
   "source": []
  },
  {
   "cell_type": "markdown",
   "metadata": {
    "id": "ElOwCUI-RqeB"
   },
   "source": [
    "[Slide No. 22]\n",
    "\n",
    "16. Write a Program to remove Duplicate values in a Dataframe."
   ]
  },
  {
   "cell_type": "markdown",
   "metadata": {
    "id": "RhE3Oyk4GxUG"
   },
   "source": [
    "**[Slide No . 24]**\n",
    "\n",
    "17.  Adding a new column to an existing DataFrame object with column label by passing new series\n",
    "\n",
    "d = {'one' : pd.Series([1, 2, 3], index=['a', 'b', 'c']),\n",
    "     'two' : pd.Series([1, 2, 3, 4], index=['a', 'b', 'c', 'd'])}\n",
    "\n",
    "df = pd.DataFrame(d)\n",
    "\n",
    "\n",
    "\n",
    "Q.1 Add new column in DataFrame\n",
    "\n",
    "\n",
    "Q.2Adding a new column using the existing columns in DataFrame\n",
    "\n"
   ]
  },
  {
   "cell_type": "code",
   "execution_count": null,
   "metadata": {
    "collapsed": true,
    "id": "hIkfH9OvAnHi"
   },
   "outputs": [],
   "source": []
  },
  {
   "cell_type": "markdown",
   "metadata": {
    "id": "EBh0PwNIHC06"
   },
   "source": [
    "**[Slide No.24]**\n",
    "\n",
    "18.Delete the Column three from the DataFrame\n",
    "\n",
    " d = {'one' : pd.Series([1, 2, 3], index=['a', 'b', 'c']),\n",
    "     'two' : pd.Series([1, 2, 3, 4], index=['a', 'b', 'c', 'd']), \n",
    "     'three' : pd.Series([10,20,30], index=['a','b','c'])}\n",
    "\n",
    "df = pd.DataFrame(d)\n"
   ]
  },
  {
   "cell_type": "code",
   "execution_count": null,
   "metadata": {
    "collapsed": true,
    "id": "MF7apzqaHSQB"
   },
   "outputs": [],
   "source": []
  },
  {
   "cell_type": "markdown",
   "metadata": {
    "id": "SposTPGjHe8P"
   },
   "source": [
    "**[Slide No. 24]**\n",
    "\n",
    "19. write a program to  replace \"Krish\" from the age column\n",
    "\n",
    "d = {'Name':pd.Series(['Tom','James','Ricky','Vin','Steve','Smith','Jack','Lee','David',\n",
    "                       'Gasper','Betina','Andres']),\n",
    "     'Age':pd.Series([25,26,25,23,30,29,23,34,40,30,\"Krish\",46]),\n",
    "     'Rating':pd.Series([4.23,3.24,3.98,2.56,3.20,4.6,3.8,3.78,2.98,4.80,4.10,3.65])\n",
    "}\n",
    "\n",
    "\n",
    "df = pd.DataFrame(d)"
   ]
  },
  {
   "cell_type": "code",
   "execution_count": null,
   "metadata": {
    "collapsed": true,
    "id": "9p7PqVdPHqT2"
   },
   "outputs": [],
   "source": []
  },
  {
   "cell_type": "markdown",
   "metadata": {
    "id": "Xj4kJaK4Sf7r"
   },
   "source": [
    "**[Slide No .32]**\n",
    "\n",
    "20. Write a program to join two dataframe and do multiple joins."
   ]
  },
  {
   "cell_type": "code",
   "execution_count": null,
   "metadata": {
    "collapsed": true,
    "id": "_-Wov8zcSgCq"
   },
   "outputs": [],
   "source": []
  }
 ],
 "metadata": {
  "anaconda-cloud": {},
  "colab": {
   "collapsed_sections": [],
   "name": "Pandas_ass.ipynb",
   "provenance": []
  },
  "kernelspec": {
   "display_name": "Python [default]",
   "language": "python",
   "name": "python3"
  },
  "language_info": {
   "codemirror_mode": {
    "name": "ipython",
    "version": 3
   },
   "file_extension": ".py",
   "mimetype": "text/x-python",
   "name": "python",
   "nbconvert_exporter": "python",
   "pygments_lexer": "ipython3",
   "version": "3.5.2"
  }
 },
 "nbformat": 4,
 "nbformat_minor": 0
}
