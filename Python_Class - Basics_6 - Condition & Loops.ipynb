{
 "cells": [
  {
   "cell_type": "markdown",
   "metadata": {},
   "source": [
    "## Conditions & Loops\n",
    "\n",
    "### Conditional Statements in Python\n",
    "#### Conditional statements are also known as decision making statements.\n",
    "#### We need these statements to execute the specific block of code if the given condition is True or False .\n",
    "\n",
    "### A Condition is a boolean expression in a conditional statement that determines which branch is executed\n",
    "### A Statement controls the flow of execution depending on some condition."
   ]
  },
  {
   "cell_type": "code",
   "execution_count": null,
   "metadata": {
    "collapsed": true
   },
   "outputs": [],
   "source": []
  },
  {
   "cell_type": "markdown",
   "metadata": {},
   "source": [
    "### Types of conditional statement :\n",
    "#### if statements\n",
    "#### if else statements\n",
    "#### elif statements\n",
    "#### Nested if and if else statements"
   ]
  },
  {
   "cell_type": "code",
   "execution_count": 1,
   "metadata": {
    "collapsed": true
   },
   "outputs": [],
   "source": [
    "a=50\n",
    "b=100\n",
    "if a>b:\n",
    "    print(\"a is greater than b\")"
   ]
  },
  {
   "cell_type": "code",
   "execution_count": 2,
   "metadata": {
    "collapsed": false
   },
   "outputs": [
    {
     "name": "stdout",
     "output_type": "stream",
     "text": [
      "a is greater than b\n"
     ]
    }
   ],
   "source": [
    "a=101\n",
    "b=100\n",
    "if a>b:\n",
    "    print(\"a is greater than b\")"
   ]
  },
  {
   "cell_type": "code",
   "execution_count": 3,
   "metadata": {
    "collapsed": false
   },
   "outputs": [
    {
     "name": "stdout",
     "output_type": "stream",
     "text": [
      "b is greater than a \n"
     ]
    }
   ],
   "source": [
    "a=34\n",
    "b=56\n",
    "if a>b:\n",
    "    print(\"a is greater than b\")\n",
    "else:\n",
    "    print(\"b is greater than a \")"
   ]
  },
  {
   "cell_type": "code",
   "execution_count": 4,
   "metadata": {
    "collapsed": false
   },
   "outputs": [
    {
     "name": "stdout",
     "output_type": "stream",
     "text": [
      "Enter the password : qioq\n",
      "incorrect password\n"
     ]
    }
   ],
   "source": [
    "x=str(input(\"Enter the password : \"))\n",
    "\n",
    "if x=='hello':\n",
    "    print(\"Welcome Home !!\")\n",
    "else:\n",
    "    print(\"incorrect password\")\n"
   ]
  },
  {
   "cell_type": "code",
   "execution_count": 5,
   "metadata": {
    "collapsed": false
   },
   "outputs": [
    {
     "name": "stdout",
     "output_type": "stream",
     "text": [
      "-1  is less than zero\n"
     ]
    }
   ],
   "source": [
    "num = -1\n",
    "if num>0:\n",
    "    print(num,\" is greater than zero\")\n",
    "else:\n",
    "    print(num,\" is less than zero\")"
   ]
  },
  {
   "cell_type": "code",
   "execution_count": 6,
   "metadata": {
    "collapsed": false
   },
   "outputs": [
    {
     "name": "stdout",
     "output_type": "stream",
     "text": [
      "Avg score is:  50.0\n"
     ]
    }
   ],
   "source": [
    "math = 40\n",
    "sci = 50\n",
    "eng = 60\n",
    "\n",
    "if (math+sci+eng) / 3 <= 35 :\n",
    "    print(\"Less than avg marks\")\n",
    "else:\n",
    "    print(\"Avg score is: \", (math+sci+eng) / 3)"
   ]
  },
  {
   "cell_type": "code",
   "execution_count": 16,
   "metadata": {
    "collapsed": false
   },
   "outputs": [
    {
     "name": "stdout",
     "output_type": "stream",
     "text": [
      "Enter your fruit name : will\n",
      "will is not in fruits list\n"
     ]
    }
   ],
   "source": [
    "fruits=[\"apple\",\"banana\",\"pineapple\",\"orange\",\"papaya\"]\n",
    "fruit_search = input(\"Enter your fruit name : \")\n",
    "\n",
    "if fruit_search in fruits:\n",
    "    print(\"{} is in fruits list\".format(fruit_search))\n",
    "else:\n",
    "    print(\"{} is not in fruits list\".format(fruit_search))"
   ]
  },
  {
   "cell_type": "markdown",
   "metadata": {},
   "source": [
    "## if - elif - else "
   ]
  },
  {
   "cell_type": "code",
   "execution_count": 20,
   "metadata": {
    "collapsed": false
   },
   "outputs": [
    {
     "name": "stdout",
     "output_type": "stream",
     "text": [
      "Enter the age : 2\n",
      "No fare for age between 0 to 3\n"
     ]
    }
   ],
   "source": [
    "age=int(input(\"Enter the age : \"))\n",
    "\n",
    "if 0<age<3 :\n",
    "    print(\"No fare for age between 0 to 3\")\n",
    "elif 3<age<10:\n",
    "    print(\"fare is 20\")\n",
    "elif 10<age<20:\n",
    "    print(\"fare is 25\")\n",
    "else:\n",
    "    print(\"fare is 30\")"
   ]
  },
  {
   "cell_type": "code",
   "execution_count": 24,
   "metadata": {
    "collapsed": false
   },
   "outputs": [
    {
     "name": "stdout",
     "output_type": "stream",
     "text": [
      "Enter the no.of Doses taken : 0\n",
      "Please get Vaccinated\n"
     ]
    }
   ],
   "source": [
    "a=int(input('Enter the no.of Doses taken : '))\n",
    "if a==1:\n",
    "    print('Next Dose is after 90 days')\n",
    "elif a==2:\n",
    "    print('Vaccination Completed Successfully')\n",
    "elif a==0:\n",
    "    print('Please get Vaccinated')\n",
    "else:\n",
    "    print('Enter number between 0 and 2')"
   ]
  },
  {
   "cell_type": "code",
   "execution_count": 28,
   "metadata": {
    "collapsed": false
   },
   "outputs": [
    {
     "name": "stdout",
     "output_type": "stream",
     "text": [
      "distance between your home and office : 8\n",
      "Go wtih walking/bicycle\n"
     ]
    }
   ],
   "source": [
    "distance =int(input(\"distance between your home and office : \"))\n",
    "if(distance > 50) :\n",
    "    print (\"go with public transport\")\n",
    "elif(distance == 50):\n",
    "    print (\"Go with your car or bike\")\n",
    "elif (distance<50):\n",
    "    print (\"Go wtih walking/bicycle\")\n",
    "else :\n",
    "    print (\"work from home\")"
   ]
  },
  {
   "cell_type": "code",
   "execution_count": 39,
   "metadata": {
    "collapsed": false
   },
   "outputs": [
    {
     "name": "stdout",
     "output_type": "stream",
     "text": [
      "enter first number: 4\n",
      "enter second number: 5\n",
      "b is greater\n"
     ]
    }
   ],
   "source": [
    "a=int(input(\"enter first number: \"))\n",
    "b=int(input(\"enter second number: \"))\n",
    "            \n",
    "if a==b:\n",
    "    print(\" a and b are equal\")\n",
    "elif a>b:\n",
    "    print(\"a is greater\")\n",
    "else:\n",
    "    print(\"b is greater\")"
   ]
  },
  {
   "cell_type": "markdown",
   "metadata": {},
   "source": [
    "## Nested if-else"
   ]
  },
  {
   "cell_type": "code",
   "execution_count": 33,
   "metadata": {
    "collapsed": false
   },
   "outputs": [
    {
     "name": "stdout",
     "output_type": "stream",
     "text": [
      "35 is greater\n"
     ]
    }
   ],
   "source": [
    "num1 = 34\n",
    "num2 = 33\n",
    "num3 = 35\n",
    "if(num1 > num2):\n",
    "    if(num1 > num3):\n",
    "        print(num1,\"is greater\")\n",
    "    else:\n",
    "        print(num3,\"is greater\")\n",
    "else:\n",
    "    if(num3 > num2):\n",
    "        print(num3,\"is greater\")\n",
    "    else:\n",
    "        print(num2,\"is greater\")"
   ]
  },
  {
   "cell_type": "code",
   "execution_count": 36,
   "metadata": {
    "collapsed": false
   },
   "outputs": [
    {
     "name": "stdout",
     "output_type": "stream",
     "text": [
      "55 is greater\n"
     ]
    }
   ],
   "source": [
    "num1 = 34\n",
    "num2 = 55\n",
    "num3 = 35\n",
    "if(num1 > num2) and (num1 > num3) :\n",
    "    print(num1,\"is greater\")\n",
    "else:\n",
    "    if(num3 > num2):\n",
    "        print(num3,\"is greater\")\n",
    "    else:\n",
    "        print(num2,\"is greater\")"
   ]
  },
  {
   "cell_type": "code",
   "execution_count": 44,
   "metadata": {
    "collapsed": false
   },
   "outputs": [
    {
     "name": "stdout",
     "output_type": "stream",
     "text": [
      "Enter a number:0\n",
      "Zero\n"
     ]
    }
   ],
   "source": [
    "num = float(input(\"Enter a number:\"))\n",
    "if num >= 0 :\n",
    "    if num == 0 :\n",
    "        print(\"Zero\")\n",
    "    else:\n",
    "        print(\"Positive number\")\n",
    "else:\n",
    "    print(\"Negative number\")"
   ]
  },
  {
   "cell_type": "code",
   "execution_count": 48,
   "metadata": {
    "collapsed": false
   },
   "outputs": [
    {
     "name": "stdout",
     "output_type": "stream",
     "text": [
      "Select 1 : Warm, 2 : Raining, 3 : Cold \n",
      "Enter the climate : Cold\n",
      "Go for shopping\n"
     ]
    }
   ],
   "source": [
    "print(\"Select 1 : Warm, 2 : Raining, 3 : Cold \")\n",
    "climate = input(\"Enter the climate : \") ## taking input from user\n",
    "if climate == \"Warm\" :\n",
    "    print(\"Dont go for shopping\")\n",
    "elif climate == \"Raining\" :\n",
    "    print(\"Dont go for shopping\")\n",
    "elif climate == \"Cold\" :\n",
    "    print(\"Go for shopping\")\n",
    "else:\n",
    "    print(\"You entered wrong entry\")"
   ]
  },
  {
   "cell_type": "code",
   "execution_count": 50,
   "metadata": {
    "collapsed": false
   },
   "outputs": [
    {
     "name": "stdout",
     "output_type": "stream",
     "text": [
      "Enter the Age : 17\n",
      "You have not reached 18 Years of age\n"
     ]
    }
   ],
   "source": [
    "## write a program to Check wheather the age entered by user is above 18 or not?\n",
    "\n",
    "age = int(input(\"Enter the Age : \"))\n",
    "if (age > 18):\n",
    "    print(\"you are above 18 years of age\")\n",
    "else:\n",
    "    print(\"You have not reached 18 Years of age\")"
   ]
  },
  {
   "cell_type": "code",
   "execution_count": 52,
   "metadata": {
    "collapsed": false
   },
   "outputs": [
    {
     "name": "stdout",
     "output_type": "stream",
     "text": [
      "Enter the number : 2\n",
      "Number is even\n"
     ]
    }
   ],
   "source": [
    "## Write a program to check number entered is even or not ?\n",
    "\n",
    "num = int(input(\"Enter the number : \"))\n",
    "if (num % 2 == 0):\n",
    "    print(\"Number is even\")\n",
    "else:\n",
    "    print(\"Number is odd\")"
   ]
  },
  {
   "cell_type": "code",
   "execution_count": 54,
   "metadata": {
    "collapsed": false
   },
   "outputs": [
    {
     "name": "stdout",
     "output_type": "stream",
     "text": [
      "Enter the number1 : 1\n",
      "Enter the number2 : 9\n",
      "Enter the number3 : 19\n",
      "number3 is greater\n"
     ]
    }
   ],
   "source": [
    "## Write a program to print largest number from three given numbers.\n",
    "\n",
    "num1 = int(input(\"Enter the number1 : \"))\n",
    "num2 = int(input(\"Enter the number2 : \"))\n",
    "num3 = int(input(\"Enter the number3 : \"))\n",
    "if(num1 > num2):\n",
    "    if(num1 > num3):\n",
    "        print(\"number1 is greater\")\n",
    "    else:\n",
    "        print(\"number3 is greater\")\n",
    "else:\n",
    "    if(num3 > num2):\n",
    "        print(\"number3 is greater\")\n",
    "    else:\n",
    "        print(\"number2 is greater\")"
   ]
  },
  {
   "cell_type": "code",
   "execution_count": 55,
   "metadata": {
    "collapsed": false
   },
   "outputs": [
    {
     "name": "stdout",
     "output_type": "stream",
     "text": [
      "Enter the number1 : 17\n",
      "Enter the number2 : 12\n",
      "Enter the number3 : 20\n",
      "17 number1 is 2nd largest value\n"
     ]
    }
   ],
   "source": [
    "## Print the 2nd largest value\n",
    "\n",
    "num1 = int(input(\"Enter the number1 : \"))\n",
    "num2 = int(input(\"Enter the number2 : \"))\n",
    "num3 = int(input(\"Enter the number3 : \"))\n",
    "if(num1 > num2):\n",
    "    if(num1 > num3):\n",
    "        if(num2 < num3):\n",
    "            print(num2, \"number2 is 2nd largest value\")\n",
    "        else:\n",
    "            print(num3, \"number3 is 2nd largest value\")\n",
    "    else:\n",
    "        print(num1, \"number1 is 2nd largest value\")\n",
    "else:\n",
    "    if(num2 > num3):\n",
    "        print(num3, \"number3 is 2nd largest value\")\n",
    "    else:\n",
    "        print(num2, \"number2 is 2nd largest value\")"
   ]
  },
  {
   "cell_type": "code",
   "execution_count": 56,
   "metadata": {
    "collapsed": false
   },
   "outputs": [
    {
     "name": "stdout",
     "output_type": "stream",
     "text": [
      "Enter the number1 : 12\n",
      "Enter the number2 : 18\n",
      "Enter the number3 : 20\n",
      "18 number2 is 2nd largest value\n"
     ]
    }
   ],
   "source": [
    "## Print the 2nd largest value\n",
    "\n",
    "num1 = int(input(\"Enter the number1 : \"))\n",
    "num2 = int(input(\"Enter the number2 : \"))\n",
    "num3 = int(input(\"Enter the number3 : \"))\n",
    "\n",
    "if num2<num1<num3:\n",
    "    print(num1, \"number1 is 2nd largest value\")\n",
    "elif num1<num2<num3:\n",
    "    print(num2, \"number2 is 2nd largest value\")\n",
    "elif num1<num3<num2:\n",
    "    print(num3, \"number3 is 2nd largest value\")"
   ]
  },
  {
   "cell_type": "code",
   "execution_count": null,
   "metadata": {
    "collapsed": true
   },
   "outputs": [],
   "source": []
  }
 ],
 "metadata": {
  "kernelspec": {
   "display_name": "Python [default]",
   "language": "python",
   "name": "python3"
  },
  "language_info": {
   "codemirror_mode": {
    "name": "ipython",
    "version": 3
   },
   "file_extension": ".py",
   "mimetype": "text/x-python",
   "name": "python",
   "nbconvert_exporter": "python",
   "pygments_lexer": "ipython3",
   "version": "3.5.2"
  }
 },
 "nbformat": 4,
 "nbformat_minor": 1
}
