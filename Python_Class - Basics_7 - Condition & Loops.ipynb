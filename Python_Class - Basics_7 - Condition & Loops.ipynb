{
 "cells": [
  {
   "cell_type": "markdown",
   "metadata": {},
   "source": [
    "## Loops in Python\n",
    "\n",
    "### Loops are used for iterating through a sequence\n",
    "### Advantages of using loops - Provide code re usability.\n",
    " "
   ]
  },
  {
   "cell_type": "markdown",
   "metadata": {},
   "source": [
    "There are three ways we can execute loops in python\n",
    "While\n",
    "Do while\n",
    "For"
   ]
  },
  {
   "cell_type": "code",
   "execution_count": 1,
   "metadata": {
    "collapsed": false
   },
   "outputs": [
    {
     "name": "stdout",
     "output_type": "stream",
     "text": [
      "ENter the number : 2\n",
      "2\n",
      "3\n",
      "4\n",
      "5\n",
      "6\n",
      "7\n",
      "8\n",
      "9\n",
      "10\n"
     ]
    }
   ],
   "source": [
    "i = 0\n",
    "i = int(input(\"ENter the number : \"))\n",
    "while i<= 10 and i>= 0 :\n",
    "    print(i)\n",
    "    i+=1\n"
   ]
  },
  {
   "cell_type": "code",
   "execution_count": 2,
   "metadata": {
    "collapsed": false
   },
   "outputs": [
    {
     "name": "stdout",
     "output_type": "stream",
     "text": [
      "1\n",
      "2\n",
      "3\n",
      "4\n",
      "5\n",
      "6\n",
      "7\n",
      "8\n",
      "9\n",
      "10\n"
     ]
    }
   ],
   "source": [
    "i = 1\n",
    "while i<11:\n",
    "    print(i)\n",
    "    i+=1"
   ]
  },
  {
   "cell_type": "code",
   "execution_count": 3,
   "metadata": {
    "collapsed": false
   },
   "outputs": [
    {
     "name": "stdout",
     "output_type": "stream",
     "text": [
      "3\n",
      "6\n",
      "9\n",
      "12\n",
      "15\n"
     ]
    }
   ],
   "source": [
    "# 3 6 9 12 15\n",
    "\n",
    "i=1\n",
    "while i<= 15:\n",
    "    if i % 3 == 0:\n",
    "        print(i)\n",
    "    i+=1"
   ]
  },
  {
   "cell_type": "code",
   "execution_count": 4,
   "metadata": {
    "collapsed": false
   },
   "outputs": [
    {
     "name": "stdout",
     "output_type": "stream",
     "text": [
      "3\n",
      "6\n",
      "9\n",
      "12\n",
      "15\n"
     ]
    }
   ],
   "source": [
    "i=3\n",
    "while i<= 15:\n",
    "    print(i)\n",
    "    i+=3"
   ]
  },
  {
   "cell_type": "code",
   "execution_count": 5,
   "metadata": {
    "collapsed": false
   },
   "outputs": [
    {
     "name": "stdout",
     "output_type": "stream",
     "text": [
      "1\n",
      "2\n"
     ]
    }
   ],
   "source": [
    "# break , when i become 2 it breaks \n",
    "\n",
    "i = 1\n",
    "while i<6:\n",
    "    print(i)\n",
    "    if i==2:\n",
    "        break\n",
    "    i+=1"
   ]
  },
  {
   "cell_type": "code",
   "execution_count": 6,
   "metadata": {
    "collapsed": false
   },
   "outputs": [
    {
     "name": "stdout",
     "output_type": "stream",
     "text": [
      "1\n",
      "2\n",
      "3\n",
      "4\n",
      "6\n",
      "7\n",
      "8\n",
      "9\n",
      "10\n"
     ]
    }
   ],
   "source": [
    "# continue \n",
    "# it skipped 5 and printed others\n",
    "\n",
    "i = 0\n",
    "while i<10:\n",
    "    i+=1    \n",
    "    if i==5:\n",
    "        continue\n",
    "    print(i)"
   ]
  },
  {
   "cell_type": "markdown",
   "metadata": {},
   "source": [
    "## For loops in Python\n",
    "\n",
    "### For loops are used to execute a statement until a given condition is satisfied\n",
    "### For loops is used when we already know the number of iterations \n",
    "### It has the ability to iterate over any sequence such as list, stings, dictionary, set etc"
   ]
  },
  {
   "cell_type": "code",
   "execution_count": 7,
   "metadata": {
    "collapsed": true
   },
   "outputs": [],
   "source": [
    "## In for loop for selecting the range of number of iteration we use range() function"
   ]
  },
  {
   "cell_type": "code",
   "execution_count": 8,
   "metadata": {
    "collapsed": false
   },
   "outputs": [
    {
     "name": "stdout",
     "output_type": "stream",
     "text": [
      "0\n",
      "1\n",
      "2\n",
      "3\n",
      "4\n",
      "5\n"
     ]
    }
   ],
   "source": [
    "for i in range(0,6):\n",
    "    print(i)"
   ]
  },
  {
   "cell_type": "code",
   "execution_count": 9,
   "metadata": {
    "collapsed": false
   },
   "outputs": [
    {
     "name": "stdout",
     "output_type": "stream",
     "text": [
      "1\n",
      "2\n",
      "3\n",
      "4\n",
      "5\n"
     ]
    }
   ],
   "source": [
    "a=[1, 2, 3, 4, 5 ] #creating a list\n",
    "for i in a: # iterating over a sequence of list\n",
    "    print(i) #printing the value i"
   ]
  },
  {
   "cell_type": "code",
   "execution_count": 10,
   "metadata": {
    "collapsed": false
   },
   "outputs": [
    {
     "name": "stdout",
     "output_type": "stream",
     "text": [
      "apple\n",
      "mango\n",
      "pine\n"
     ]
    }
   ],
   "source": [
    "sample_list=[\"apple\",\"mango\",\"pine\"]\n",
    "\n",
    "for x in sample_list:\n",
    "    print(x)"
   ]
  },
  {
   "cell_type": "code",
   "execution_count": 11,
   "metadata": {
    "collapsed": false
   },
   "outputs": [
    {
     "name": "stdout",
     "output_type": "stream",
     "text": [
      "a\n",
      "p\n",
      "p\n",
      "l\n",
      "e\n"
     ]
    }
   ],
   "source": [
    "for x in 'apple':\n",
    "    print(x)"
   ]
  },
  {
   "cell_type": "code",
   "execution_count": 12,
   "metadata": {
    "collapsed": false
   },
   "outputs": [
    {
     "name": "stdout",
     "output_type": "stream",
     "text": [
      "apple\n",
      "mango\n"
     ]
    }
   ],
   "source": [
    "# use of break\n",
    "\n",
    "for x in sample_list:\n",
    "    print(x)\n",
    "    if x == 'mango':\n",
    "        break"
   ]
  },
  {
   "cell_type": "code",
   "execution_count": 13,
   "metadata": {
    "collapsed": false
   },
   "outputs": [
    {
     "name": "stdout",
     "output_type": "stream",
     "text": [
      "apple\n",
      "mango\n"
     ]
    }
   ],
   "source": [
    "for x in sample_list:\n",
    "    print(x)\n",
    "    if x == 'mango':\n",
    "        break"
   ]
  },
  {
   "cell_type": "code",
   "execution_count": 14,
   "metadata": {
    "collapsed": false
   },
   "outputs": [
    {
     "name": "stdout",
     "output_type": "stream",
     "text": [
      "apple\n",
      "apple\n",
      "mango\n"
     ]
    }
   ],
   "source": [
    "for x in sample_list:\n",
    "    print(x)\n",
    "    if x == 'mango':\n",
    "        break\n",
    "    print(x)"
   ]
  },
  {
   "cell_type": "code",
   "execution_count": 15,
   "metadata": {
    "collapsed": false
   },
   "outputs": [
    {
     "name": "stdout",
     "output_type": "stream",
     "text": [
      "apple\n",
      "apple\n",
      "mango\n",
      "pine\n",
      "pine\n"
     ]
    }
   ],
   "source": [
    "# use of continue\n",
    "\n",
    "for x in sample_list:\n",
    "    print(x)\n",
    "    if x == 'mango':\n",
    "        continue\n",
    "    print(x)"
   ]
  },
  {
   "cell_type": "code",
   "execution_count": 16,
   "metadata": {
    "collapsed": false
   },
   "outputs": [
    {
     "name": "stdout",
     "output_type": "stream",
     "text": [
      "ML with R\n",
      "ML with Python\n",
      "Datascience with Python\n",
      "Datascience with R\n"
     ]
    }
   ],
   "source": [
    "list1 = [\"ML with R\", \"ML with Python\", \"Python\", \"Datascience with Python\", \"Datascience with R\"]\n",
    "\n",
    "for x in list1:\n",
    "    if x==\"Python\":\n",
    "        continue\n",
    "    print(x)\n"
   ]
  },
  {
   "cell_type": "code",
   "execution_count": 17,
   "metadata": {
    "collapsed": false
   },
   "outputs": [
    {
     "name": "stdout",
     "output_type": "stream",
     "text": [
      "Paul\n",
      "Counter is 0\n",
      "Erin\n",
      "Counter is 1\n"
     ]
    }
   ],
   "source": [
    "students = [\"Paul\", \"Erin\", \"Connie\", \"Moira\"]\n",
    "\n",
    "for student in range(0, len(students)):\n",
    "    if student == 2:\n",
    "        break\n",
    "    else:\n",
    "        print(students[student])\n",
    "\n",
    "    print(\"Counter is \" + str(student))"
   ]
  },
  {
   "cell_type": "code",
   "execution_count": 18,
   "metadata": {
    "collapsed": false
   },
   "outputs": [
    {
     "name": "stdout",
     "output_type": "stream",
     "text": [
      "mon\n",
      "tue\n",
      "wed\n",
      "thur\n"
     ]
    }
   ],
   "source": [
    "days=['mon','tue','wed','thur','fri','sat','sun']\n",
    "for x in days:\n",
    "    if x =='fri':\n",
    "       break\n",
    "    print(x)"
   ]
  },
  {
   "cell_type": "code",
   "execution_count": 20,
   "metadata": {
    "collapsed": false
   },
   "outputs": [
    {
     "name": "stdout",
     "output_type": "stream",
     "text": [
      "Enter number of levels:6\n",
      "1 \n",
      "\n",
      "2 2 \n",
      "\n",
      "3 3 3 \n",
      "\n",
      "4 4 4 4 \n",
      "\n",
      "5 5 5 5 5 \n",
      "\n",
      "6 6 6 6 6 6 \n",
      "\n"
     ]
    }
   ],
   "source": [
    "levels=int(input(\"Enter number of levels:\"))\n",
    "\n",
    "for level in range(1,levels+1):\n",
    "    for num in range(level):\n",
    "        print(level,end=\" \")\n",
    "        \n",
    "    print(\"\\n\")"
   ]
  },
  {
   "cell_type": "code",
   "execution_count": 22,
   "metadata": {
    "collapsed": false
   },
   "outputs": [
    {
     "name": "stdout",
     "output_type": "stream",
     "text": [
      "p y t h o n "
     ]
    }
   ],
   "source": [
    "# Write a program to Iterating string \"Python\" using for loop\n",
    "\n",
    "for x in \"python\":\n",
    "    print(x, end=\" \")"
   ]
  },
  {
   "cell_type": "code",
   "execution_count": 23,
   "metadata": {
    "collapsed": false
   },
   "outputs": [
    {
     "name": "stdout",
     "output_type": "stream",
     "text": [
      "Display multiplication table of? 6\n",
      "6 x 1 = 6\n",
      "6 x 2 = 12\n",
      "6 x 3 = 18\n",
      "6 x 4 = 24\n",
      "6 x 5 = 30\n",
      "6 x 6 = 36\n",
      "6 x 7 = 42\n",
      "6 x 8 = 48\n",
      "6 x 9 = 54\n",
      "6 x 10 = 60\n"
     ]
    }
   ],
   "source": [
    "# Write a program to print Table of a given number\n",
    "\n",
    "num = int(input(\"Display multiplication table of? \"))\n",
    "\n",
    "for i in range(1, 11):\n",
    "    print(num, 'x', i, '=', num*i)"
   ]
  },
  {
   "cell_type": "code",
   "execution_count": 24,
   "metadata": {
    "collapsed": false
   },
   "outputs": [
    {
     "name": "stdout",
     "output_type": "stream",
     "text": [
      "10\n",
      "40\n",
      "63\n",
      "106\n",
      "----------------\n",
      "106\n"
     ]
    }
   ],
   "source": [
    "# Program to print the sum of the given list\n",
    "\n",
    "list = [10,30,23,43]\n",
    "sum = 0\n",
    "for i in list:\n",
    "    sum+=i\n",
    "    print(sum)\n",
    "print(\"----------------\")\n",
    "print(sum)"
   ]
  },
  {
   "cell_type": "code",
   "execution_count": 25,
   "metadata": {
    "collapsed": false
   },
   "outputs": [
    {
     "name": "stdout",
     "output_type": "stream",
     "text": [
      "0\n",
      "1\n",
      "2\n",
      "3\n",
      "4\n"
     ]
    }
   ],
   "source": [
    "for i in range(5):   ## when only 1 value is given in range function - it will act as end value\n",
    "    print(i)"
   ]
  },
  {
   "cell_type": "code",
   "execution_count": 26,
   "metadata": {
    "collapsed": false
   },
   "outputs": [
    {
     "name": "stdout",
     "output_type": "stream",
     "text": [
      "70\n"
     ]
    }
   ],
   "source": [
    "# find number between 50 to 100, divided by 7 and multiple of 5\n",
    "\n",
    "for i in range(50,100):\n",
    "    if (i%7 == 0) and (i%5 ==0 ):\n",
    "        print(i)"
   ]
  },
  {
   "cell_type": "code",
   "execution_count": 27,
   "metadata": {
    "collapsed": false
   },
   "outputs": [
    {
     "name": "stdout",
     "output_type": "stream",
     "text": [
      "321"
     ]
    }
   ],
   "source": [
    "# reverse a number \n",
    "\n",
    "a = '123'\n",
    "i=1\n",
    "while i <= len(a):\n",
    "    print(a[-i], end = \"\")\n",
    "    i+=1"
   ]
  },
  {
   "cell_type": "code",
   "execution_count": 28,
   "metadata": {
    "collapsed": false
   },
   "outputs": [
    {
     "data": {
      "text/plain": [
       "'321'"
      ]
     },
     "execution_count": 28,
     "metadata": {},
     "output_type": "execute_result"
    }
   ],
   "source": [
    "a='123'\n",
    "a[::-1]"
   ]
  },
  {
   "cell_type": "code",
   "execution_count": 29,
   "metadata": {
    "collapsed": false
   },
   "outputs": [
    {
     "name": "stdout",
     "output_type": "stream",
     "text": [
      "Enter a number : 15733\n",
      "33751\n"
     ]
    }
   ],
   "source": [
    "# reverse a number from input \n",
    "\n",
    "num = int(input(\"Enter a number : \"))\n",
    "\n",
    "rev = 0\n",
    "while num>0:\n",
    "    rem = num % 10\n",
    "    rev = rev*10 + rem\n",
    "    num = num // 10\n",
    "    \n",
    "print(rev)"
   ]
  },
  {
   "cell_type": "code",
   "execution_count": 30,
   "metadata": {
    "collapsed": false
   },
   "outputs": [
    {
     "name": "stdout",
     "output_type": "stream",
     "text": [
      "Enter a number : 5\n",
      "120\n"
     ]
    }
   ],
   "source": [
    "# Factorial of a number\n",
    "\n",
    "num = int(input(\"Enter a number : \"))\n",
    "\n",
    "fact = 1\n",
    "while num>0:\n",
    "    fact = fact * num\n",
    "    num-=1\n",
    "    \n",
    "print(fact)\n"
   ]
  },
  {
   "cell_type": "code",
   "execution_count": 31,
   "metadata": {
    "collapsed": false
   },
   "outputs": [
    {
     "name": "stdout",
     "output_type": "stream",
     "text": [
      "1234567\n"
     ]
    }
   ],
   "source": [
    "# extract only number from the string\n",
    "\n",
    "my_str = \"My number is 1234567\"\n",
    "\n",
    "for i in my_str.split():\n",
    "    if i.isdigit():\n",
    "        print(i)"
   ]
  },
  {
   "cell_type": "code",
   "execution_count": 32,
   "metadata": {
    "collapsed": false
   },
   "outputs": [
    {
     "data": {
      "text/plain": [
       "[1234567]"
      ]
     },
     "execution_count": 32,
     "metadata": {},
     "output_type": "execute_result"
    }
   ],
   "source": [
    "test_string=\"My number is 1234567\"\n",
    "res = [int(i) for i in test_string.split() if i.isdigit()]\n",
    "res"
   ]
  },
  {
   "cell_type": "code",
   "execution_count": 33,
   "metadata": {
    "collapsed": false
   },
   "outputs": [
    {
     "name": "stdout",
     "output_type": "stream",
     "text": [
      "Enter number : 153\n",
      "Armstrong\n"
     ]
    }
   ],
   "source": [
    "# check a number is Armstrong or not\n",
    "\n",
    "num = int(input(\"Enter number : \"))\n",
    "x=str(num)\n",
    "arm = 0\n",
    "for i in x:\n",
    "    arm = arm + int(i)**3\n",
    "    \n",
    "if arm == num:\n",
    "    print(\"Armstrong\")\n",
    "else:\n",
    "    print(\"not Armstrong\")"
   ]
  },
  {
   "cell_type": "code",
   "execution_count": 39,
   "metadata": {
    "collapsed": false
   },
   "outputs": [
    {
     "name": "stdout",
     "output_type": "stream",
     "text": [
      "Enter number : 153\n",
      "Armstrong\n"
     ]
    }
   ],
   "source": [
    "# check a number is Armstrong or not\n",
    "\n",
    "num = int(input(\"Enter number : \"))\n",
    "num1 = num\n",
    "arm = 0\n",
    "while num>0:\n",
    "    rem = num % 10\n",
    "    arm = arm + rem**3\n",
    "    num = num // 10\n",
    "\n",
    "if arm == num1:\n",
    "    print(\"Armstrong\")\n",
    "else:\n",
    "    print(\"not Armstrong\")"
   ]
  },
  {
   "cell_type": "code",
   "execution_count": 40,
   "metadata": {
    "collapsed": false
   },
   "outputs": [
    {
     "name": "stdout",
     "output_type": "stream",
     "text": [
      "Hi Arun ! \n",
      "    I am krish from income tax department. your tax is pending from last 5 years.\n",
      "    I am giving you some details please cross check it.\n",
      "    Phone Number : 11111111\n",
      "    Email Address : arun@gmail.com\n",
      "    Please response us if your details are right.\n",
      "    \n",
      "Hi Anuj ! \n",
      "    I am krish from income tax department. your tax is pending from last 5 years.\n",
      "    I am giving you some details please cross check it.\n",
      "    Phone Number : 222222222\n",
      "    Email Address : Anuj@gmail.com\n",
      "    Please response us if your details are right.\n",
      "    \n",
      "Hi Pankaj ! \n",
      "    I am krish from income tax department. your tax is pending from last 5 years.\n",
      "    I am giving you some details please cross check it.\n",
      "    Phone Number : 33333333\n",
      "    Email Address : pankaj@gmail.com\n",
      "    Please response us if your details are right.\n",
      "    \n",
      "Hi Sam ! \n",
      "    I am krish from income tax department. your tax is pending from last 5 years.\n",
      "    I am giving you some details please cross check it.\n",
      "    Phone Number : 444444444\n",
      "    Email Address : sam@gmail.com\n",
      "    Please response us if your details are right.\n",
      "    \n",
      "Hi Anju ! \n",
      "    I am krish from income tax department. your tax is pending from last 5 years.\n",
      "    I am giving you some details please cross check it.\n",
      "    Phone Number : 555555555\n",
      "    Email Address : anju@gmail.com\n",
      "    Please response us if your details are right.\n",
      "    \n"
     ]
    }
   ],
   "source": [
    "# from a list of name, email, phone\n",
    "# generate content of email \n",
    "\n",
    "name = [\"Arun\", \"Anuj\", \"Pankaj\", \"Sam\", \"Anju\"]\n",
    "phone_number = [11111111, 222222222, 33333333, 444444444, 555555555]\n",
    "email_address = [\"arun@gmail.com\", \"Anuj@gmail.com\", \"pankaj@gmail.com\",\"sam@gmail.com\",\"anju@gmail.com\"]\n",
    "\n",
    "i = 0\n",
    "for x in name:\n",
    "    msg = '''Hi {} ! \n",
    "    I am krish from income tax department. your tax is pending from last 5 years.\n",
    "    I am giving you some details please cross check it.\n",
    "    Phone Number : {}\n",
    "    Email Address : {}\n",
    "    Please response us if your details are right.\n",
    "    '''\n",
    "    print(msg.format(name[i], phone_number[i],email_address[i]))\n",
    "    i+=1"
   ]
  },
  {
   "cell_type": "code",
   "execution_count": 41,
   "metadata": {
    "collapsed": false
   },
   "outputs": [
    {
     "name": "stdout",
     "output_type": "stream",
     "text": [
      "2\n",
      "3\n",
      "5\n",
      "7\n",
      "11\n",
      "13\n",
      "17\n",
      "19\n"
     ]
    }
   ],
   "source": [
    "# finding prime numbers \n",
    "\n",
    "for i in range(2,20):\n",
    "    if i > 1:\n",
    "        for x in range(2,i):\n",
    "            if i % x == 0:\n",
    "                break\n",
    "        else :\n",
    "            print(i)"
   ]
  },
  {
   "cell_type": "code",
   "execution_count": null,
   "metadata": {
    "collapsed": true
   },
   "outputs": [],
   "source": []
  }
 ],
 "metadata": {
  "anaconda-cloud": {},
  "kernelspec": {
   "display_name": "Python [default]",
   "language": "python",
   "name": "python3"
  },
  "language_info": {
   "codemirror_mode": {
    "name": "ipython",
    "version": 3
   },
   "file_extension": ".py",
   "mimetype": "text/x-python",
   "name": "python",
   "nbconvert_exporter": "python",
   "pygments_lexer": "ipython3",
   "version": "3.5.2"
  }
 },
 "nbformat": 4,
 "nbformat_minor": 1
}
