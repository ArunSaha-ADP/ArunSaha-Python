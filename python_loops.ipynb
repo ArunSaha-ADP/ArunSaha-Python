{
 "cells": [
  {
   "cell_type": "code",
   "execution_count": null,
   "metadata": {
    "colab": {
     "base_uri": "https://localhost:8080/"
    },
    "id": "EUCQbR741YQS",
    "outputId": "15a31993-26b5-401c-8ea9-a39d6d30e03a"
   },
   "outputs": [
    {
     "name": "stdout",
     "output_type": "stream",
     "text": [
      "1\n",
      "2\n",
      "3\n",
      "4\n",
      "5\n",
      "6\n",
      "7\n",
      "8\n",
      "9\n",
      "10\n"
     ]
    }
   ],
   "source": [
    "#wap to print number from 1 to 10 using while loop\n",
    "i=1\n",
    "while i<=10:\n",
    "  print(i)\n",
    "  i=i+1\n"
   ]
  },
  {
   "cell_type": "code",
   "execution_count": null,
   "metadata": {
    "colab": {
     "base_uri": "https://localhost:8080/"
    },
    "id": "jZY4HMbF10oy",
    "outputId": "921dd430-d801-4790-ac54-8cdaae269d78"
   },
   "outputs": [
    {
     "name": "stdout",
     "output_type": "stream",
     "text": [
      "2\n",
      "4\n",
      "6\n",
      "8\n",
      "10\n"
     ]
    }
   ],
   "source": [
    "#wap to print even number from 1 to 10 using while and for loops\n",
    "i=1\n",
    "while i<=10:\n",
    "  if i%2==0:\n",
    "    print(i)\n",
    "  i=i+1"
   ]
  },
  {
   "cell_type": "code",
   "execution_count": null,
   "metadata": {
    "colab": {
     "base_uri": "https://localhost:8080/"
    },
    "id": "BII82t5O2Uab",
    "outputId": "c5bbd42c-9596-48f4-c5d6-f9a44043efe8"
   },
   "outputs": [
    {
     "name": "stdout",
     "output_type": "stream",
     "text": [
      "1\n",
      "2\n",
      "3\n",
      "4\n",
      "5\n",
      "6\n",
      "7\n",
      "8\n",
      "9\n",
      "10\n",
      "Done\n"
     ]
    }
   ],
   "source": [
    "#wap program to display done after running the loops\n",
    "i=1\n",
    "while i<=10:\n",
    "  print(i)\n",
    "  i=i+1\n",
    "print('Done')"
   ]
  },
  {
   "cell_type": "code",
   "execution_count": null,
   "metadata": {
    "colab": {
     "base_uri": "https://localhost:8080/"
    },
    "id": "vKkE4PfW2osn",
    "outputId": "c1d3f954-963d-41cd-9338-327e7bf0c881"
   },
   "outputs": [
    {
     "name": "stdout",
     "output_type": "stream",
     "text": [
      "2 * 1 2\n",
      "2 * 2 4\n",
      "2 * 3 6\n",
      "2 * 4 8\n",
      "2 * 5 10\n",
      "2 * 6 12\n",
      "2 * 7 14\n",
      "2 * 8 16\n",
      "2 * 9 18\n"
     ]
    }
   ],
   "source": [
    "#write a program to find the multiplication of 2\n",
    "n=2\n",
    "i=1\n",
    "while i<10:\n",
    "  print(f'{n} * {i}',n*i)\n",
    "  i=i+1"
   ]
  },
  {
   "cell_type": "code",
   "execution_count": null,
   "metadata": {
    "colab": {
     "base_uri": "https://localhost:8080/"
    },
    "id": "YUem16qM3E5d",
    "outputId": "78b9b8ce-8e43-4225-fe89-85bc13a19a5c"
   },
   "outputs": [
    {
     "name": "stdout",
     "output_type": "stream",
     "text": [
      "enter the number to calculate the factorial of number5\n",
      "120\n"
     ]
    }
   ],
   "source": [
    "#write a program to calculate the factorial of number\n",
    "f=int(input('enter the number to calculate the factorial of number '))\n",
    "i=0\n",
    "factorial=1\n",
    "while i<f:\n",
    "  factorial=factorial+factorial*i\n",
    "  i=i+1\n",
    "print(factorial)"
   ]
  },
  {
   "cell_type": "code",
   "execution_count": null,
   "metadata": {
    "colab": {
     "base_uri": "https://localhost:8080/"
    },
    "id": "3sFmtX3tBEMm",
    "outputId": "f133c809-5a71-4ba7-e950-0b19e3a8a89b"
   },
   "outputs": [
    {
     "name": "stdout",
     "output_type": "stream",
     "text": [
      "enter the number1\n",
      "enter the number2\n",
      "enter the number3\n",
      "enter the number4\n",
      "enter the number5\n",
      "enter the number6\n",
      "enter the number7\n",
      "enter the number8\n",
      "enter the number9\n",
      "enter the number10\n",
      "5.5\n"
     ]
    }
   ],
   "source": [
    "#wap to take 10 number from user and calculate the average\n",
    "n=0\n",
    "sum=0\n",
    "while n<10:\n",
    "  number=int(input(\"enter the number\"))\n",
    "  sum=sum+number\n",
    "  n=n+1\n",
    "average=sum/10\n",
    "print(average)"
   ]
  },
  {
   "cell_type": "code",
   "execution_count": null,
   "metadata": {
    "colab": {
     "base_uri": "https://localhost:8080/"
    },
    "id": "Z2SX_-c4DRT5",
    "outputId": "ad1e68a5-fee5-4438-8bd5-441d58dba014"
   },
   "outputs": [
    {
     "name": "stdout",
     "output_type": "stream",
     "text": [
      "1\n",
      "2\n",
      "3\n",
      "4\n",
      "5\n",
      "6\n",
      "7\n",
      "8\n",
      "9\n",
      "10\n",
      "11\n",
      "12\n",
      "13\n",
      "14\n",
      "15\n",
      "16\n",
      "17\n",
      "18\n",
      "19\n",
      "20\n",
      "21\n",
      "22\n",
      "23\n",
      "24\n",
      "25\n",
      "26\n",
      "27\n",
      "28\n",
      "29\n",
      "30\n",
      "31\n",
      "32\n",
      "33\n",
      "34\n",
      "35\n",
      "36\n",
      "37\n",
      "38\n",
      "39\n",
      "40\n",
      "41\n",
      "42\n",
      "43\n",
      "44\n",
      "45\n",
      "46\n",
      "47\n",
      "48\n",
      "49\n",
      "50\n",
      "51\n",
      "52\n",
      "53\n",
      "54\n",
      "55\n",
      "56\n",
      "57\n",
      "58\n",
      "59\n",
      "60\n",
      "61\n",
      "62\n",
      "63\n",
      "64\n",
      "65\n",
      "66\n",
      "67\n",
      "68\n",
      "69\n",
      "70\n",
      "71\n",
      "72\n",
      "73\n",
      "74\n",
      "75\n",
      "76\n",
      "77\n",
      "78\n",
      "79\n",
      "80\n",
      "81\n",
      "82\n",
      "83\n",
      "84\n",
      "85\n",
      "86\n",
      "87\n",
      "88\n",
      "89\n",
      "90\n",
      "91\n",
      "92\n",
      "93\n",
      "94\n",
      "95\n",
      "96\n",
      "97\n",
      "98\n",
      "99\n",
      "100\n"
     ]
    }
   ],
   "source": [
    "#wap for to calculate number 1 to 100 using for loop\n",
    "\n",
    "for i in range(1,101):\n",
    "  print(i)"
   ]
  },
  {
   "cell_type": "code",
   "execution_count": null,
   "metadata": {
    "colab": {
     "base_uri": "https://localhost:8080/"
    },
    "id": "PXqoNSNeD6fx",
    "outputId": "84b078bb-c808-4039-f24b-24f5b9161b8a"
   },
   "outputs": [
    {
     "name": "stdout",
     "output_type": "stream",
     "text": [
      "*\n",
      "**\n",
      "***\n",
      "****\n",
      "*****\n"
     ]
    }
   ],
   "source": [
    "#wap to print a right angle trainangle.This is an example of nested loops.\n",
    "for i in range(5):\n",
    "  for j in range(i+1):\n",
    "    print('*',end=\"\")\n",
    "  print()"
   ]
  },
  {
   "cell_type": "code",
   "execution_count": null,
   "metadata": {
    "colab": {
     "base_uri": "https://localhost:8080/"
    },
    "id": "QNhkUmiXEpeE",
    "outputId": "d3dc788d-2ffe-4733-865c-011aca8e87bd"
   },
   "outputs": [
    {
     "name": "stdout",
     "output_type": "stream",
     "text": [
      "5 4 3 2 1 \n",
      "4 3 2 1 \n",
      "3 2 1 \n",
      "2 1 \n",
      "1 \n",
      "\n"
     ]
    }
   ],
   "source": [
    "#wap to print a pattern using nested loops.\n",
    "\"\"\"\n",
    "5 4 3 2 1 \n",
    "4 3 2 1 \n",
    "3 2 1 \n",
    "2 1 \n",
    "1\n",
    "\"\"\"\n",
    "n = 5\n",
    "k = 5\n",
    "for i in range(0,n+1):\n",
    "    for j in range(k-i,0,-1):\n",
    "        print(j,end=' ')\n",
    "    print()"
   ]
  },
  {
   "cell_type": "code",
   "execution_count": null,
   "metadata": {
    "colab": {
     "base_uri": "https://localhost:8080/"
    },
    "id": "zdlK7jlDHL7f",
    "outputId": "ea0d7846-6343-4dfd-8f0b-d558ffb0b647"
   },
   "outputs": [
    {
     "name": "stdout",
     "output_type": "stream",
     "text": [
      "200\n"
     ]
    }
   ],
   "source": [
    "#wap to find the sum from 10 to 20 using for loops\n",
    "for i in range(10,21):\n",
    "  sum=sum+i\n",
    "print(sum)"
   ]
  },
  {
   "cell_type": "code",
   "execution_count": null,
   "metadata": {
    "colab": {
     "base_uri": "https://localhost:8080/"
    },
    "id": "49kFdCKuIrx0",
    "outputId": "accd78dc-5c48-4d9d-99df-6bd91eb8e84a"
   },
   "outputs": [
    {
     "name": "stdout",
     "output_type": "stream",
     "text": [
      "51.0\n"
     ]
    }
   ],
   "source": [
    "#wap to caculate the average from 10 to 20 using for loops \n",
    "for i in range(10,21):\n",
    "  sum=sum+i\n",
    "average=sum/10\n",
    "print(average)"
   ]
  },
  {
   "cell_type": "code",
   "execution_count": null,
   "metadata": {
    "colab": {
     "base_uri": "https://localhost:8080/"
    },
    "id": "nOnBBW2RJBWo",
    "outputId": "b97c97ea-7c4e-4b3f-db58-0c76db265852"
   },
   "outputs": [
    {
     "name": "stdout",
     "output_type": "stream",
     "text": [
      "It is an even number 10\n",
      "It is not an even number 11\n",
      "It is an even number 12\n",
      "It is not an even number 13\n",
      "It is an even number 14\n",
      "It is not an even number 15\n",
      "It is an even number 16\n",
      "It is not an even number 17\n",
      "It is an even number 18\n",
      "It is not an even number 19\n",
      "It is an even number 20\n"
     ]
    }
   ],
   "source": [
    "for i in range(10,21):\n",
    "  if i%2==0:\n",
    "    print(\"It is an even number\",i)\n",
    "  else:\n",
    "    print(\"It is not an even number\",i)"
   ]
  },
  {
   "cell_type": "code",
   "execution_count": null,
   "metadata": {
    "colab": {
     "base_uri": "https://localhost:8080/"
    },
    "id": "unBS6oN_fT3Y",
    "outputId": "0451780a-5c76-4975-c2e9-a75ece75494b"
   },
   "outputs": [
    {
     "name": "stdout",
     "output_type": "stream",
     "text": [
      "enter the number7\n",
      "this is the prime number\n"
     ]
    }
   ],
   "source": [
    "#wap to program to check whether the number is prime or not \n",
    "num=int(input(\"enter the number\"))\n",
    "count=0\n",
    "for i in range(1,num):\n",
    "  if(num%i==0):\n",
    "    count=count+1\n",
    "if count==1:\n",
    "  print(\"this is the prime number\")\n",
    "else:\n",
    "  print(\"this is not the prime number\")"
   ]
  },
  {
   "cell_type": "code",
   "execution_count": null,
   "metadata": {
    "colab": {
     "base_uri": "https://localhost:8080/"
    },
    "id": "WydBiutRJqHd",
    "outputId": "00fc6288-6d86-48cc-b5e1-31995b605424"
   },
   "outputs": [
    {
     "name": "stdout",
     "output_type": "stream",
     "text": [
      "hello\n"
     ]
    }
   ],
   "source": [
    "#functions in python\n",
    "def greetings():\n",
    "  print(\"hello\")\n",
    "greetings()"
   ]
  },
  {
   "cell_type": "code",
   "execution_count": null,
   "metadata": {
    "colab": {
     "base_uri": "https://localhost:8080/"
    },
    "id": "8P4Y2RFkLC3B",
    "outputId": "e3fa3864-f49c-4e3a-f724-6af174275786"
   },
   "outputs": [
    {
     "name": "stdout",
     "output_type": "stream",
     "text": [
      "30\n"
     ]
    }
   ],
   "source": [
    "def add(x,y):\n",
    "  print(x+y)\n",
    "add(10,20)"
   ]
  },
  {
   "cell_type": "code",
   "execution_count": null,
   "metadata": {
    "colab": {
     "base_uri": "https://localhost:8080/"
    },
    "id": "8ubHhktcaaR5",
    "outputId": "551bee0d-1f07-4a18-c536-c1b84808d828"
   },
   "outputs": [
    {
     "name": "stdout",
     "output_type": "stream",
     "text": [
      "2\n",
      "4\n",
      "6\n",
      "8\n",
      "10\n",
      "12\n",
      "14\n",
      "16\n",
      "18\n",
      "20\n"
     ]
    }
   ],
   "source": [
    "def multiplication(x):\n",
    "  for i in range(1,11):\n",
    "    print(x*i)\n",
    "multiplication(2)"
   ]
  },
  {
   "cell_type": "code",
   "execution_count": null,
   "metadata": {
    "colab": {
     "base_uri": "https://localhost:8080/"
    },
    "id": "XqA8KGGqapDJ",
    "outputId": "c906c100-2ac4-45fd-d655-db51827c22bc"
   },
   "outputs": [
    {
     "data": {
      "text/plain": [
       "[1, 2, 3, 4, 5]"
      ]
     },
     "execution_count": 1,
     "metadata": {
      "tags": []
     },
     "output_type": "execute_result"
    }
   ],
   "source": [
    "#Write a Python function that takes a list and returns a new list with unique elements of the first list.\n",
    "list1=[1,2,2,3,4,5,5]\n",
    "list2=[]\n",
    "for i in list1:\n",
    "  if i not in list2:\n",
    "    list2.append(i)\n",
    "list2"
   ]
  },
  {
   "cell_type": "code",
   "execution_count": null,
   "metadata": {
    "id": "Q4ymbBFplDQJ"
   },
   "outputs": [],
   "source": [
    ""
   ]
  }
 ],
 "metadata": {
  "colab": {
   "name": "python loops.ipynb",
   "provenance": []
  },
  "kernelspec": {
   "display_name": "Python 3",
   "name": "python3"
  },
  "language_info": {
   "name": "python"
  }
 },
 "nbformat": 4,
 "nbformat_minor": 0
}
